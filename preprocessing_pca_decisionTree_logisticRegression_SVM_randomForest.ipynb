{
 "cells": [
  {
   "cell_type": "code",
   "execution_count": 1,
   "id": "860a8270-f1bd-4391-88c4-c5f1fe859606",
   "metadata": {},
   "outputs": [],
   "source": [
    "import numpy as np\n",
    "import pandas as pd"
   ]
  },
  {
   "cell_type": "code",
   "execution_count": 2,
   "id": "2ef7c270-ce34-4a78-b7ce-8705d3ae8a57",
   "metadata": {},
   "outputs": [],
   "source": [
    "df = pd.read_csv('insurance_defaulter_prediction/train_jRxnrHD.csv')"
   ]
  },
  {
   "cell_type": "code",
   "execution_count": 3,
   "id": "16d09d05-9a18-4834-a167-e2f6ab58016b",
   "metadata": {},
   "outputs": [
    {
     "data": {
      "text/html": [
       "<div>\n",
       "<style scoped>\n",
       "    .dataframe tbody tr th:only-of-type {\n",
       "        vertical-align: middle;\n",
       "    }\n",
       "\n",
       "    .dataframe tbody tr th {\n",
       "        vertical-align: top;\n",
       "    }\n",
       "\n",
       "    .dataframe thead th {\n",
       "        text-align: right;\n",
       "    }\n",
       "</style>\n",
       "<table border=\"1\" class=\"dataframe\">\n",
       "  <thead>\n",
       "    <tr style=\"text-align: right;\">\n",
       "      <th></th>\n",
       "      <th>id</th>\n",
       "      <th>perc_premium_paid_by_cash_credit</th>\n",
       "      <th>age_in_days</th>\n",
       "      <th>Income</th>\n",
       "      <th>Count_3-6_months_late</th>\n",
       "      <th>Count_6-12_months_late</th>\n",
       "      <th>Count_more_than_12_months_late</th>\n",
       "      <th>application_underwriting_score</th>\n",
       "      <th>no_of_premiums_paid</th>\n",
       "      <th>sourcing_channel</th>\n",
       "      <th>residence_area_type</th>\n",
       "      <th>premium</th>\n",
       "      <th>target</th>\n",
       "    </tr>\n",
       "  </thead>\n",
       "  <tbody>\n",
       "    <tr>\n",
       "      <th>0</th>\n",
       "      <td>110936</td>\n",
       "      <td>0.429</td>\n",
       "      <td>12058</td>\n",
       "      <td>355060</td>\n",
       "      <td>0.0</td>\n",
       "      <td>0.0</td>\n",
       "      <td>0.0</td>\n",
       "      <td>99.02</td>\n",
       "      <td>13</td>\n",
       "      <td>C</td>\n",
       "      <td>Urban</td>\n",
       "      <td>3300</td>\n",
       "      <td>1</td>\n",
       "    </tr>\n",
       "    <tr>\n",
       "      <th>1</th>\n",
       "      <td>41492</td>\n",
       "      <td>0.010</td>\n",
       "      <td>21546</td>\n",
       "      <td>315150</td>\n",
       "      <td>0.0</td>\n",
       "      <td>0.0</td>\n",
       "      <td>0.0</td>\n",
       "      <td>99.89</td>\n",
       "      <td>21</td>\n",
       "      <td>A</td>\n",
       "      <td>Urban</td>\n",
       "      <td>18000</td>\n",
       "      <td>1</td>\n",
       "    </tr>\n",
       "    <tr>\n",
       "      <th>2</th>\n",
       "      <td>31300</td>\n",
       "      <td>0.917</td>\n",
       "      <td>17531</td>\n",
       "      <td>84140</td>\n",
       "      <td>2.0</td>\n",
       "      <td>3.0</td>\n",
       "      <td>1.0</td>\n",
       "      <td>98.69</td>\n",
       "      <td>7</td>\n",
       "      <td>C</td>\n",
       "      <td>Rural</td>\n",
       "      <td>3300</td>\n",
       "      <td>0</td>\n",
       "    </tr>\n",
       "    <tr>\n",
       "      <th>3</th>\n",
       "      <td>19415</td>\n",
       "      <td>0.049</td>\n",
       "      <td>15341</td>\n",
       "      <td>250510</td>\n",
       "      <td>0.0</td>\n",
       "      <td>0.0</td>\n",
       "      <td>0.0</td>\n",
       "      <td>99.57</td>\n",
       "      <td>9</td>\n",
       "      <td>A</td>\n",
       "      <td>Urban</td>\n",
       "      <td>9600</td>\n",
       "      <td>1</td>\n",
       "    </tr>\n",
       "    <tr>\n",
       "      <th>4</th>\n",
       "      <td>99379</td>\n",
       "      <td>0.052</td>\n",
       "      <td>31400</td>\n",
       "      <td>198680</td>\n",
       "      <td>0.0</td>\n",
       "      <td>0.0</td>\n",
       "      <td>0.0</td>\n",
       "      <td>99.87</td>\n",
       "      <td>12</td>\n",
       "      <td>B</td>\n",
       "      <td>Urban</td>\n",
       "      <td>9600</td>\n",
       "      <td>1</td>\n",
       "    </tr>\n",
       "  </tbody>\n",
       "</table>\n",
       "</div>"
      ],
      "text/plain": [
       "       id  perc_premium_paid_by_cash_credit  age_in_days  Income  \\\n",
       "0  110936                             0.429        12058  355060   \n",
       "1   41492                             0.010        21546  315150   \n",
       "2   31300                             0.917        17531   84140   \n",
       "3   19415                             0.049        15341  250510   \n",
       "4   99379                             0.052        31400  198680   \n",
       "\n",
       "   Count_3-6_months_late  Count_6-12_months_late  \\\n",
       "0                    0.0                     0.0   \n",
       "1                    0.0                     0.0   \n",
       "2                    2.0                     3.0   \n",
       "3                    0.0                     0.0   \n",
       "4                    0.0                     0.0   \n",
       "\n",
       "   Count_more_than_12_months_late  application_underwriting_score  \\\n",
       "0                             0.0                           99.02   \n",
       "1                             0.0                           99.89   \n",
       "2                             1.0                           98.69   \n",
       "3                             0.0                           99.57   \n",
       "4                             0.0                           99.87   \n",
       "\n",
       "   no_of_premiums_paid sourcing_channel residence_area_type  premium  target  \n",
       "0                   13                C               Urban     3300       1  \n",
       "1                   21                A               Urban    18000       1  \n",
       "2                    7                C               Rural     3300       0  \n",
       "3                    9                A               Urban     9600       1  \n",
       "4                   12                B               Urban     9600       1  "
      ]
     },
     "execution_count": 3,
     "metadata": {},
     "output_type": "execute_result"
    }
   ],
   "source": [
    "df.head()"
   ]
  },
  {
   "cell_type": "code",
   "execution_count": 4,
   "id": "d4eea544-6335-495c-9e07-43dac5f48ad8",
   "metadata": {},
   "outputs": [
    {
     "data": {
      "text/plain": [
       "(79853, 13)"
      ]
     },
     "execution_count": 4,
     "metadata": {},
     "output_type": "execute_result"
    }
   ],
   "source": [
    "df.shape"
   ]
  },
  {
   "cell_type": "code",
   "execution_count": 5,
   "id": "2630b2fe-441a-4938-bf1a-44240db9112d",
   "metadata": {},
   "outputs": [
    {
     "name": "stdout",
     "output_type": "stream",
     "text": [
      "<class 'pandas.core.frame.DataFrame'>\n",
      "RangeIndex: 79853 entries, 0 to 79852\n",
      "Data columns (total 13 columns):\n",
      " #   Column                            Non-Null Count  Dtype  \n",
      "---  ------                            --------------  -----  \n",
      " 0   id                                79853 non-null  int64  \n",
      " 1   perc_premium_paid_by_cash_credit  79853 non-null  float64\n",
      " 2   age_in_days                       79853 non-null  int64  \n",
      " 3   Income                            79853 non-null  int64  \n",
      " 4   Count_3-6_months_late             79756 non-null  float64\n",
      " 5   Count_6-12_months_late            79756 non-null  float64\n",
      " 6   Count_more_than_12_months_late    79756 non-null  float64\n",
      " 7   application_underwriting_score    76879 non-null  float64\n",
      " 8   no_of_premiums_paid               79853 non-null  int64  \n",
      " 9   sourcing_channel                  79853 non-null  object \n",
      " 10  residence_area_type               79853 non-null  object \n",
      " 11  premium                           79853 non-null  int64  \n",
      " 12  target                            79853 non-null  int64  \n",
      "dtypes: float64(5), int64(6), object(2)\n",
      "memory usage: 7.9+ MB\n"
     ]
    }
   ],
   "source": [
    "df.info()"
   ]
  },
  {
   "cell_type": "markdown",
   "id": "626db1cb-4345-407b-9dcb-64c748200a30",
   "metadata": {},
   "source": [
    "# preprocessing"
   ]
  },
  {
   "cell_type": "code",
   "execution_count": 6,
   "id": "dfaeba54-3402-47b5-87e2-50811d82ab8c",
   "metadata": {},
   "outputs": [
    {
     "data": {
      "text/plain": [
       "id                                     0\n",
       "perc_premium_paid_by_cash_credit       0\n",
       "age_in_days                            0\n",
       "Income                                 0\n",
       "Count_3-6_months_late                 97\n",
       "Count_6-12_months_late                97\n",
       "Count_more_than_12_months_late        97\n",
       "application_underwriting_score      2974\n",
       "no_of_premiums_paid                    0\n",
       "sourcing_channel                       0\n",
       "residence_area_type                    0\n",
       "premium                                0\n",
       "target                                 0\n",
       "dtype: int64"
      ]
     },
     "execution_count": 6,
     "metadata": {},
     "output_type": "execute_result"
    }
   ],
   "source": [
    "df.isnull().sum()"
   ]
  },
  {
   "cell_type": "code",
   "execution_count": 7,
   "id": "7607235f-ba12-43d8-af5a-7a5860e5dd80",
   "metadata": {},
   "outputs": [
    {
     "data": {
      "text/plain": [
       "0"
      ]
     },
     "execution_count": 7,
     "metadata": {},
     "output_type": "execute_result"
    }
   ],
   "source": [
    "df.duplicated().sum()"
   ]
  },
  {
   "cell_type": "code",
   "execution_count": 8,
   "id": "b5461b92-eacb-45d5-9633-8e762beb1296",
   "metadata": {},
   "outputs": [],
   "source": [
    "df.drop_duplicates(inplace=True)"
   ]
  },
  {
   "cell_type": "code",
   "execution_count": 9,
   "id": "81d443cf-093b-4cb0-9150-d7b1707a5542",
   "metadata": {},
   "outputs": [
    {
     "data": {
      "text/plain": [
       "(79853, 13)"
      ]
     },
     "execution_count": 9,
     "metadata": {},
     "output_type": "execute_result"
    }
   ],
   "source": [
    "df.shape"
   ]
  },
  {
   "cell_type": "code",
   "execution_count": 10,
   "id": "f1fc7887-8c8e-4945-b7e1-784185f0c9c9",
   "metadata": {},
   "outputs": [],
   "source": [
    "df.drop(['id'], axis=1, inplace=True)"
   ]
  },
  {
   "cell_type": "code",
   "execution_count": 11,
   "id": "e7752fe2-6b22-4412-8df0-df4cb7fa07cc",
   "metadata": {},
   "outputs": [
    {
     "data": {
      "text/plain": [
       "(79853, 12)"
      ]
     },
     "execution_count": 11,
     "metadata": {},
     "output_type": "execute_result"
    }
   ],
   "source": [
    "df.shape"
   ]
  },
  {
   "cell_type": "markdown",
   "id": "8b3a89fc-4950-49ab-85a8-76aa264cde01",
   "metadata": {},
   "source": [
    "# one hot encoding"
   ]
  },
  {
   "cell_type": "code",
   "execution_count": 12,
   "id": "80a7d364-24c7-4829-b0d9-51c5679c4d2c",
   "metadata": {},
   "outputs": [],
   "source": [
    "df_ohe = pd.get_dummies(df)"
   ]
  },
  {
   "cell_type": "code",
   "execution_count": 13,
   "id": "03c21f53-d355-4597-b2bb-79aaab2ef849",
   "metadata": {},
   "outputs": [
    {
     "data": {
      "text/plain": [
       "(79853, 17)"
      ]
     },
     "execution_count": 13,
     "metadata": {},
     "output_type": "execute_result"
    }
   ],
   "source": [
    "df_ohe.shape"
   ]
  },
  {
   "cell_type": "code",
   "execution_count": 14,
   "id": "70e2cb5a-1fa7-4981-9933-d16b10f44cef",
   "metadata": {},
   "outputs": [
    {
     "data": {
      "text/plain": [
       "perc_premium_paid_by_cash_credit       0\n",
       "age_in_days                            0\n",
       "Income                                 0\n",
       "Count_3-6_months_late                 97\n",
       "Count_6-12_months_late                97\n",
       "Count_more_than_12_months_late        97\n",
       "application_underwriting_score      2974\n",
       "no_of_premiums_paid                    0\n",
       "premium                                0\n",
       "target                                 0\n",
       "sourcing_channel_A                     0\n",
       "sourcing_channel_B                     0\n",
       "sourcing_channel_C                     0\n",
       "sourcing_channel_D                     0\n",
       "sourcing_channel_E                     0\n",
       "residence_area_type_Rural              0\n",
       "residence_area_type_Urban              0\n",
       "dtype: int64"
      ]
     },
     "execution_count": 14,
     "metadata": {},
     "output_type": "execute_result"
    }
   ],
   "source": [
    "df_ohe.isnull().sum()"
   ]
  },
  {
   "cell_type": "code",
   "execution_count": 15,
   "id": "5e11d84b-9aa9-4f52-936b-68398d376ebb",
   "metadata": {},
   "outputs": [],
   "source": [
    "df_ohe.fillna(df_ohe.median(), inplace=True)"
   ]
  },
  {
   "cell_type": "code",
   "execution_count": 16,
   "id": "af5bfcca-8207-4516-b99d-dd95d1d9da7a",
   "metadata": {},
   "outputs": [
    {
     "data": {
      "text/plain": [
       "perc_premium_paid_by_cash_credit    0\n",
       "age_in_days                         0\n",
       "Income                              0\n",
       "Count_3-6_months_late               0\n",
       "Count_6-12_months_late              0\n",
       "Count_more_than_12_months_late      0\n",
       "application_underwriting_score      0\n",
       "no_of_premiums_paid                 0\n",
       "premium                             0\n",
       "target                              0\n",
       "sourcing_channel_A                  0\n",
       "sourcing_channel_B                  0\n",
       "sourcing_channel_C                  0\n",
       "sourcing_channel_D                  0\n",
       "sourcing_channel_E                  0\n",
       "residence_area_type_Rural           0\n",
       "residence_area_type_Urban           0\n",
       "dtype: int64"
      ]
     },
     "execution_count": 16,
     "metadata": {},
     "output_type": "execute_result"
    }
   ],
   "source": [
    "df_ohe.isnull().sum()"
   ]
  },
  {
   "cell_type": "code",
   "execution_count": 17,
   "id": "fac58e1a-45a4-4859-a97f-e8b5fee345ad",
   "metadata": {},
   "outputs": [
    {
     "data": {
      "text/plain": [
       "Index(['perc_premium_paid_by_cash_credit', 'age_in_days', 'Income',\n",
       "       'Count_3-6_months_late', 'Count_6-12_months_late',\n",
       "       'Count_more_than_12_months_late', 'application_underwriting_score',\n",
       "       'no_of_premiums_paid', 'premium', 'target', 'sourcing_channel_A',\n",
       "       'sourcing_channel_B', 'sourcing_channel_C', 'sourcing_channel_D',\n",
       "       'sourcing_channel_E', 'residence_area_type_Rural',\n",
       "       'residence_area_type_Urban'],\n",
       "      dtype='object')"
      ]
     },
     "execution_count": 17,
     "metadata": {},
     "output_type": "execute_result"
    }
   ],
   "source": [
    "df_ohe.columns"
   ]
  },
  {
   "cell_type": "code",
   "execution_count": 18,
   "id": "a49b29a4-a90f-4a13-9589-88240d62b614",
   "metadata": {},
   "outputs": [
    {
     "data": {
      "text/plain": [
       "perc_premium_paid_by_cash_credit     1001\n",
       "age_in_days                           833\n",
       "Income                              24165\n",
       "Count_3-6_months_late                  14\n",
       "Count_6-12_months_late                 17\n",
       "Count_more_than_12_months_late         10\n",
       "application_underwriting_score        672\n",
       "no_of_premiums_paid                    57\n",
       "premium                                30\n",
       "target                                  2\n",
       "sourcing_channel_A                      2\n",
       "sourcing_channel_B                      2\n",
       "sourcing_channel_C                      2\n",
       "sourcing_channel_D                      2\n",
       "sourcing_channel_E                      2\n",
       "residence_area_type_Rural               2\n",
       "residence_area_type_Urban               2\n",
       "dtype: int64"
      ]
     },
     "execution_count": 18,
     "metadata": {},
     "output_type": "execute_result"
    }
   ],
   "source": [
    "df_ohe.nunique()"
   ]
  },
  {
   "cell_type": "code",
   "execution_count": 19,
   "id": "12173313-131c-4caa-a95b-18762e763e31",
   "metadata": {},
   "outputs": [
    {
     "data": {
      "text/plain": [
       "perc_premium_paid_by_cash_credit    float64\n",
       "age_in_days                           int64\n",
       "Income                                int64\n",
       "Count_3-6_months_late               float64\n",
       "Count_6-12_months_late              float64\n",
       "Count_more_than_12_months_late      float64\n",
       "application_underwriting_score      float64\n",
       "no_of_premiums_paid                   int64\n",
       "premium                               int64\n",
       "target                                int64\n",
       "sourcing_channel_A                     bool\n",
       "sourcing_channel_B                     bool\n",
       "sourcing_channel_C                     bool\n",
       "sourcing_channel_D                     bool\n",
       "sourcing_channel_E                     bool\n",
       "residence_area_type_Rural              bool\n",
       "residence_area_type_Urban              bool\n",
       "dtype: object"
      ]
     },
     "execution_count": 19,
     "metadata": {},
     "output_type": "execute_result"
    }
   ],
   "source": [
    "df_ohe.dtypes"
   ]
  },
  {
   "cell_type": "markdown",
   "id": "897fcd68-3f35-41c7-a32d-5029e3f10f6a",
   "metadata": {},
   "source": [
    "# X & Y split"
   ]
  },
  {
   "cell_type": "code",
   "execution_count": 20,
   "id": "ef784469-1d77-4d91-8b59-920569036bd3",
   "metadata": {},
   "outputs": [
    {
     "data": {
      "text/html": [
       "<div>\n",
       "<style scoped>\n",
       "    .dataframe tbody tr th:only-of-type {\n",
       "        vertical-align: middle;\n",
       "    }\n",
       "\n",
       "    .dataframe tbody tr th {\n",
       "        vertical-align: top;\n",
       "    }\n",
       "\n",
       "    .dataframe thead th {\n",
       "        text-align: right;\n",
       "    }\n",
       "</style>\n",
       "<table border=\"1\" class=\"dataframe\">\n",
       "  <thead>\n",
       "    <tr style=\"text-align: right;\">\n",
       "      <th></th>\n",
       "      <th>perc_premium_paid_by_cash_credit</th>\n",
       "      <th>age_in_days</th>\n",
       "      <th>Income</th>\n",
       "      <th>Count_3-6_months_late</th>\n",
       "      <th>Count_6-12_months_late</th>\n",
       "      <th>Count_more_than_12_months_late</th>\n",
       "      <th>application_underwriting_score</th>\n",
       "      <th>no_of_premiums_paid</th>\n",
       "      <th>sourcing_channel_A</th>\n",
       "      <th>sourcing_channel_B</th>\n",
       "      <th>sourcing_channel_C</th>\n",
       "      <th>sourcing_channel_D</th>\n",
       "      <th>sourcing_channel_E</th>\n",
       "      <th>residence_area_type_Rural</th>\n",
       "      <th>residence_area_type_Urban</th>\n",
       "    </tr>\n",
       "  </thead>\n",
       "  <tbody>\n",
       "    <tr>\n",
       "      <th>0</th>\n",
       "      <td>0.429</td>\n",
       "      <td>12058</td>\n",
       "      <td>355060</td>\n",
       "      <td>0.0</td>\n",
       "      <td>0.0</td>\n",
       "      <td>0.0</td>\n",
       "      <td>99.02</td>\n",
       "      <td>13</td>\n",
       "      <td>False</td>\n",
       "      <td>False</td>\n",
       "      <td>True</td>\n",
       "      <td>False</td>\n",
       "      <td>False</td>\n",
       "      <td>False</td>\n",
       "      <td>True</td>\n",
       "    </tr>\n",
       "    <tr>\n",
       "      <th>1</th>\n",
       "      <td>0.010</td>\n",
       "      <td>21546</td>\n",
       "      <td>315150</td>\n",
       "      <td>0.0</td>\n",
       "      <td>0.0</td>\n",
       "      <td>0.0</td>\n",
       "      <td>99.89</td>\n",
       "      <td>21</td>\n",
       "      <td>True</td>\n",
       "      <td>False</td>\n",
       "      <td>False</td>\n",
       "      <td>False</td>\n",
       "      <td>False</td>\n",
       "      <td>False</td>\n",
       "      <td>True</td>\n",
       "    </tr>\n",
       "    <tr>\n",
       "      <th>2</th>\n",
       "      <td>0.917</td>\n",
       "      <td>17531</td>\n",
       "      <td>84140</td>\n",
       "      <td>2.0</td>\n",
       "      <td>3.0</td>\n",
       "      <td>1.0</td>\n",
       "      <td>98.69</td>\n",
       "      <td>7</td>\n",
       "      <td>False</td>\n",
       "      <td>False</td>\n",
       "      <td>True</td>\n",
       "      <td>False</td>\n",
       "      <td>False</td>\n",
       "      <td>True</td>\n",
       "      <td>False</td>\n",
       "    </tr>\n",
       "    <tr>\n",
       "      <th>3</th>\n",
       "      <td>0.049</td>\n",
       "      <td>15341</td>\n",
       "      <td>250510</td>\n",
       "      <td>0.0</td>\n",
       "      <td>0.0</td>\n",
       "      <td>0.0</td>\n",
       "      <td>99.57</td>\n",
       "      <td>9</td>\n",
       "      <td>True</td>\n",
       "      <td>False</td>\n",
       "      <td>False</td>\n",
       "      <td>False</td>\n",
       "      <td>False</td>\n",
       "      <td>False</td>\n",
       "      <td>True</td>\n",
       "    </tr>\n",
       "    <tr>\n",
       "      <th>4</th>\n",
       "      <td>0.052</td>\n",
       "      <td>31400</td>\n",
       "      <td>198680</td>\n",
       "      <td>0.0</td>\n",
       "      <td>0.0</td>\n",
       "      <td>0.0</td>\n",
       "      <td>99.87</td>\n",
       "      <td>12</td>\n",
       "      <td>False</td>\n",
       "      <td>True</td>\n",
       "      <td>False</td>\n",
       "      <td>False</td>\n",
       "      <td>False</td>\n",
       "      <td>False</td>\n",
       "      <td>True</td>\n",
       "    </tr>\n",
       "  </tbody>\n",
       "</table>\n",
       "</div>"
      ],
      "text/plain": [
       "   perc_premium_paid_by_cash_credit  age_in_days  Income  \\\n",
       "0                             0.429        12058  355060   \n",
       "1                             0.010        21546  315150   \n",
       "2                             0.917        17531   84140   \n",
       "3                             0.049        15341  250510   \n",
       "4                             0.052        31400  198680   \n",
       "\n",
       "   Count_3-6_months_late  Count_6-12_months_late  \\\n",
       "0                    0.0                     0.0   \n",
       "1                    0.0                     0.0   \n",
       "2                    2.0                     3.0   \n",
       "3                    0.0                     0.0   \n",
       "4                    0.0                     0.0   \n",
       "\n",
       "   Count_more_than_12_months_late  application_underwriting_score  \\\n",
       "0                             0.0                           99.02   \n",
       "1                             0.0                           99.89   \n",
       "2                             1.0                           98.69   \n",
       "3                             0.0                           99.57   \n",
       "4                             0.0                           99.87   \n",
       "\n",
       "   no_of_premiums_paid  sourcing_channel_A  sourcing_channel_B  \\\n",
       "0                   13               False               False   \n",
       "1                   21                True               False   \n",
       "2                    7               False               False   \n",
       "3                    9                True               False   \n",
       "4                   12               False                True   \n",
       "\n",
       "   sourcing_channel_C  sourcing_channel_D  sourcing_channel_E  \\\n",
       "0                True               False               False   \n",
       "1               False               False               False   \n",
       "2                True               False               False   \n",
       "3               False               False               False   \n",
       "4               False               False               False   \n",
       "\n",
       "   residence_area_type_Rural  residence_area_type_Urban  \n",
       "0                      False                       True  \n",
       "1                      False                       True  \n",
       "2                       True                      False  \n",
       "3                      False                       True  \n",
       "4                      False                       True  "
      ]
     },
     "execution_count": 20,
     "metadata": {},
     "output_type": "execute_result"
    }
   ],
   "source": [
    "X = df_ohe.drop(['premium','target'], axis=1)\n",
    "X.head()"
   ]
  },
  {
   "cell_type": "code",
   "execution_count": 21,
   "id": "c0c8d62b-669e-4d58-b27a-af4e4a5c8e4a",
   "metadata": {},
   "outputs": [
    {
     "data": {
      "text/plain": [
       "0    1\n",
       "1    1\n",
       "2    0\n",
       "3    1\n",
       "4    1\n",
       "Name: target, dtype: int64"
      ]
     },
     "execution_count": 21,
     "metadata": {},
     "output_type": "execute_result"
    }
   ],
   "source": [
    "Y = df_ohe['target']\n",
    "Y.head()"
   ]
  },
  {
   "cell_type": "code",
   "execution_count": 22,
   "id": "68fbdd52-0bb1-4b04-ab0b-1f1a866a4729",
   "metadata": {},
   "outputs": [
    {
     "data": {
      "text/plain": [
       "((79853, 15), (79853,))"
      ]
     },
     "execution_count": 22,
     "metadata": {},
     "output_type": "execute_result"
    }
   ],
   "source": [
    "X.shape, Y.shape"
   ]
  },
  {
   "cell_type": "code",
   "execution_count": 23,
   "id": "11214073-38a4-4362-9a7f-9cb02e7ac07d",
   "metadata": {},
   "outputs": [],
   "source": [
    "from sklearn.model_selection import train_test_split\n",
    "X_train, X_test, Y_train, Y_test = train_test_split(X, Y, test_size=0.3, random_state=7, )"
   ]
  },
  {
   "cell_type": "code",
   "execution_count": 24,
   "id": "abc017ae-547a-4a4c-af36-0095b400d575",
   "metadata": {},
   "outputs": [
    {
     "data": {
      "text/plain": [
       "((55897, 15), (23956, 15), (55897,), (23956,))"
      ]
     },
     "execution_count": 24,
     "metadata": {},
     "output_type": "execute_result"
    }
   ],
   "source": [
    "X_train.shape, X_test.shape, Y_train.shape, Y_test.shape"
   ]
  },
  {
   "cell_type": "markdown",
   "id": "2c72a05c-3b18-4f2d-b546-7bfa26dc6b1a",
   "metadata": {},
   "source": [
    "# Standardization"
   ]
  },
  {
   "cell_type": "code",
   "execution_count": 25,
   "id": "ef5e5b0c-9545-4352-a808-f0f2dd700cfa",
   "metadata": {},
   "outputs": [
    {
     "data": {
      "text/html": [
       "<style>#sk-container-id-1 {color: black;}#sk-container-id-1 pre{padding: 0;}#sk-container-id-1 div.sk-toggleable {background-color: white;}#sk-container-id-1 label.sk-toggleable__label {cursor: pointer;display: block;width: 100%;margin-bottom: 0;padding: 0.3em;box-sizing: border-box;text-align: center;}#sk-container-id-1 label.sk-toggleable__label-arrow:before {content: \"▸\";float: left;margin-right: 0.25em;color: #696969;}#sk-container-id-1 label.sk-toggleable__label-arrow:hover:before {color: black;}#sk-container-id-1 div.sk-estimator:hover label.sk-toggleable__label-arrow:before {color: black;}#sk-container-id-1 div.sk-toggleable__content {max-height: 0;max-width: 0;overflow: hidden;text-align: left;background-color: #f0f8ff;}#sk-container-id-1 div.sk-toggleable__content pre {margin: 0.2em;color: black;border-radius: 0.25em;background-color: #f0f8ff;}#sk-container-id-1 input.sk-toggleable__control:checked~div.sk-toggleable__content {max-height: 200px;max-width: 100%;overflow: auto;}#sk-container-id-1 input.sk-toggleable__control:checked~label.sk-toggleable__label-arrow:before {content: \"▾\";}#sk-container-id-1 div.sk-estimator input.sk-toggleable__control:checked~label.sk-toggleable__label {background-color: #d4ebff;}#sk-container-id-1 div.sk-label input.sk-toggleable__control:checked~label.sk-toggleable__label {background-color: #d4ebff;}#sk-container-id-1 input.sk-hidden--visually {border: 0;clip: rect(1px 1px 1px 1px);clip: rect(1px, 1px, 1px, 1px);height: 1px;margin: -1px;overflow: hidden;padding: 0;position: absolute;width: 1px;}#sk-container-id-1 div.sk-estimator {font-family: monospace;background-color: #f0f8ff;border: 1px dotted black;border-radius: 0.25em;box-sizing: border-box;margin-bottom: 0.5em;}#sk-container-id-1 div.sk-estimator:hover {background-color: #d4ebff;}#sk-container-id-1 div.sk-parallel-item::after {content: \"\";width: 100%;border-bottom: 1px solid gray;flex-grow: 1;}#sk-container-id-1 div.sk-label:hover label.sk-toggleable__label {background-color: #d4ebff;}#sk-container-id-1 div.sk-serial::before {content: \"\";position: absolute;border-left: 1px solid gray;box-sizing: border-box;top: 0;bottom: 0;left: 50%;z-index: 0;}#sk-container-id-1 div.sk-serial {display: flex;flex-direction: column;align-items: center;background-color: white;padding-right: 0.2em;padding-left: 0.2em;position: relative;}#sk-container-id-1 div.sk-item {position: relative;z-index: 1;}#sk-container-id-1 div.sk-parallel {display: flex;align-items: stretch;justify-content: center;background-color: white;position: relative;}#sk-container-id-1 div.sk-item::before, #sk-container-id-1 div.sk-parallel-item::before {content: \"\";position: absolute;border-left: 1px solid gray;box-sizing: border-box;top: 0;bottom: 0;left: 50%;z-index: -1;}#sk-container-id-1 div.sk-parallel-item {display: flex;flex-direction: column;z-index: 1;position: relative;background-color: white;}#sk-container-id-1 div.sk-parallel-item:first-child::after {align-self: flex-end;width: 50%;}#sk-container-id-1 div.sk-parallel-item:last-child::after {align-self: flex-start;width: 50%;}#sk-container-id-1 div.sk-parallel-item:only-child::after {width: 0;}#sk-container-id-1 div.sk-dashed-wrapped {border: 1px dashed gray;margin: 0 0.4em 0.5em 0.4em;box-sizing: border-box;padding-bottom: 0.4em;background-color: white;}#sk-container-id-1 div.sk-label label {font-family: monospace;font-weight: bold;display: inline-block;line-height: 1.2em;}#sk-container-id-1 div.sk-label-container {text-align: center;}#sk-container-id-1 div.sk-container {/* jupyter's `normalize.less` sets `[hidden] { display: none; }` but bootstrap.min.css set `[hidden] { display: none !important; }` so we also need the `!important` here to be able to override the default hidden behavior on the sphinx rendered scikit-learn.org. See: https://github.com/scikit-learn/scikit-learn/issues/21755 */display: inline-block !important;position: relative;}#sk-container-id-1 div.sk-text-repr-fallback {display: none;}</style><div id=\"sk-container-id-1\" class=\"sk-top-container\"><div class=\"sk-text-repr-fallback\"><pre>StandardScaler()</pre><b>In a Jupyter environment, please rerun this cell to show the HTML representation or trust the notebook. <br />On GitHub, the HTML representation is unable to render, please try loading this page with nbviewer.org.</b></div><div class=\"sk-container\" hidden><div class=\"sk-item\"><div class=\"sk-estimator sk-toggleable\"><input class=\"sk-toggleable__control sk-hidden--visually\" id=\"sk-estimator-id-1\" type=\"checkbox\" checked><label for=\"sk-estimator-id-1\" class=\"sk-toggleable__label sk-toggleable__label-arrow\">StandardScaler</label><div class=\"sk-toggleable__content\"><pre>StandardScaler()</pre></div></div></div></div></div>"
      ],
      "text/plain": [
       "StandardScaler()"
      ]
     },
     "execution_count": 25,
     "metadata": {},
     "output_type": "execute_result"
    }
   ],
   "source": [
    "from sklearn.preprocessing import StandardScaler\n",
    "sd = StandardScaler()\n",
    "sd.fit(X_train, Y_train)"
   ]
  },
  {
   "cell_type": "code",
   "execution_count": 26,
   "id": "4d81fcf2-1606-45c9-8174-14be73d76f57",
   "metadata": {},
   "outputs": [
    {
     "data": {
      "text/html": [
       "<div>\n",
       "<style scoped>\n",
       "    .dataframe tbody tr th:only-of-type {\n",
       "        vertical-align: middle;\n",
       "    }\n",
       "\n",
       "    .dataframe tbody tr th {\n",
       "        vertical-align: top;\n",
       "    }\n",
       "\n",
       "    .dataframe thead th {\n",
       "        text-align: right;\n",
       "    }\n",
       "</style>\n",
       "<table border=\"1\" class=\"dataframe\">\n",
       "  <thead>\n",
       "    <tr style=\"text-align: right;\">\n",
       "      <th></th>\n",
       "      <th>perc_premium_paid_by_cash_credit</th>\n",
       "      <th>age_in_days</th>\n",
       "      <th>Income</th>\n",
       "      <th>Count_3-6_months_late</th>\n",
       "      <th>Count_6-12_months_late</th>\n",
       "      <th>Count_more_than_12_months_late</th>\n",
       "      <th>application_underwriting_score</th>\n",
       "      <th>no_of_premiums_paid</th>\n",
       "    </tr>\n",
       "  </thead>\n",
       "  <tbody>\n",
       "    <tr>\n",
       "      <th>count</th>\n",
       "      <td>55897.000000</td>\n",
       "      <td>55897.000000</td>\n",
       "      <td>5.589700e+04</td>\n",
       "      <td>55897.000000</td>\n",
       "      <td>55897.000000</td>\n",
       "      <td>55897.000000</td>\n",
       "      <td>55897.000000</td>\n",
       "      <td>55897.000000</td>\n",
       "    </tr>\n",
       "    <tr>\n",
       "      <th>mean</th>\n",
       "      <td>0.313552</td>\n",
       "      <td>18845.565093</td>\n",
       "      <td>2.081529e+05</td>\n",
       "      <td>0.248368</td>\n",
       "      <td>0.077124</td>\n",
       "      <td>0.060289</td>\n",
       "      <td>99.073974</td>\n",
       "      <td>10.861102</td>\n",
       "    </tr>\n",
       "    <tr>\n",
       "      <th>std</th>\n",
       "      <td>0.334074</td>\n",
       "      <td>5209.204715</td>\n",
       "      <td>4.066187e+05</td>\n",
       "      <td>0.690218</td>\n",
       "      <td>0.432517</td>\n",
       "      <td>0.310669</td>\n",
       "      <td>0.723533</td>\n",
       "      <td>5.158885</td>\n",
       "    </tr>\n",
       "    <tr>\n",
       "      <th>min</th>\n",
       "      <td>0.000000</td>\n",
       "      <td>7670.000000</td>\n",
       "      <td>2.403000e+04</td>\n",
       "      <td>0.000000</td>\n",
       "      <td>0.000000</td>\n",
       "      <td>0.000000</td>\n",
       "      <td>91.960000</td>\n",
       "      <td>2.000000</td>\n",
       "    </tr>\n",
       "    <tr>\n",
       "      <th>25%</th>\n",
       "      <td>0.034000</td>\n",
       "      <td>14974.000000</td>\n",
       "      <td>1.078300e+05</td>\n",
       "      <td>0.000000</td>\n",
       "      <td>0.000000</td>\n",
       "      <td>0.000000</td>\n",
       "      <td>98.830000</td>\n",
       "      <td>7.000000</td>\n",
       "    </tr>\n",
       "    <tr>\n",
       "      <th>50%</th>\n",
       "      <td>0.168000</td>\n",
       "      <td>18626.000000</td>\n",
       "      <td>1.670500e+05</td>\n",
       "      <td>0.000000</td>\n",
       "      <td>0.000000</td>\n",
       "      <td>0.000000</td>\n",
       "      <td>99.210000</td>\n",
       "      <td>10.000000</td>\n",
       "    </tr>\n",
       "    <tr>\n",
       "      <th>75%</th>\n",
       "      <td>0.535000</td>\n",
       "      <td>22636.000000</td>\n",
       "      <td>2.525900e+05</td>\n",
       "      <td>0.000000</td>\n",
       "      <td>0.000000</td>\n",
       "      <td>0.000000</td>\n",
       "      <td>99.520000</td>\n",
       "      <td>14.000000</td>\n",
       "    </tr>\n",
       "    <tr>\n",
       "      <th>max</th>\n",
       "      <td>1.000000</td>\n",
       "      <td>37602.000000</td>\n",
       "      <td>5.382190e+07</td>\n",
       "      <td>13.000000</td>\n",
       "      <td>17.000000</td>\n",
       "      <td>11.000000</td>\n",
       "      <td>99.890000</td>\n",
       "      <td>60.000000</td>\n",
       "    </tr>\n",
       "  </tbody>\n",
       "</table>\n",
       "</div>"
      ],
      "text/plain": [
       "       perc_premium_paid_by_cash_credit   age_in_days        Income  \\\n",
       "count                      55897.000000  55897.000000  5.589700e+04   \n",
       "mean                           0.313552  18845.565093  2.081529e+05   \n",
       "std                            0.334074   5209.204715  4.066187e+05   \n",
       "min                            0.000000   7670.000000  2.403000e+04   \n",
       "25%                            0.034000  14974.000000  1.078300e+05   \n",
       "50%                            0.168000  18626.000000  1.670500e+05   \n",
       "75%                            0.535000  22636.000000  2.525900e+05   \n",
       "max                            1.000000  37602.000000  5.382190e+07   \n",
       "\n",
       "       Count_3-6_months_late  Count_6-12_months_late  \\\n",
       "count           55897.000000            55897.000000   \n",
       "mean                0.248368                0.077124   \n",
       "std                 0.690218                0.432517   \n",
       "min                 0.000000                0.000000   \n",
       "25%                 0.000000                0.000000   \n",
       "50%                 0.000000                0.000000   \n",
       "75%                 0.000000                0.000000   \n",
       "max                13.000000               17.000000   \n",
       "\n",
       "       Count_more_than_12_months_late  application_underwriting_score  \\\n",
       "count                    55897.000000                    55897.000000   \n",
       "mean                         0.060289                       99.073974   \n",
       "std                          0.310669                        0.723533   \n",
       "min                          0.000000                       91.960000   \n",
       "25%                          0.000000                       98.830000   \n",
       "50%                          0.000000                       99.210000   \n",
       "75%                          0.000000                       99.520000   \n",
       "max                         11.000000                       99.890000   \n",
       "\n",
       "       no_of_premiums_paid  \n",
       "count         55897.000000  \n",
       "mean             10.861102  \n",
       "std               5.158885  \n",
       "min               2.000000  \n",
       "25%               7.000000  \n",
       "50%              10.000000  \n",
       "75%              14.000000  \n",
       "max              60.000000  "
      ]
     },
     "execution_count": 26,
     "metadata": {},
     "output_type": "execute_result"
    }
   ],
   "source": [
    "X_train.describe()"
   ]
  },
  {
   "cell_type": "code",
   "execution_count": 27,
   "id": "8ef0b7ae-0487-4c95-ae62-f5e63bb378b8",
   "metadata": {},
   "outputs": [],
   "source": [
    "X_train.loc[:,:] = sd.transform(X_train)"
   ]
  },
  {
   "cell_type": "code",
   "execution_count": 28,
   "id": "18c90c5f-7f05-4162-aafe-a30f178b8d18",
   "metadata": {},
   "outputs": [
    {
     "data": {
      "text/html": [
       "<div>\n",
       "<style scoped>\n",
       "    .dataframe tbody tr th:only-of-type {\n",
       "        vertical-align: middle;\n",
       "    }\n",
       "\n",
       "    .dataframe tbody tr th {\n",
       "        vertical-align: top;\n",
       "    }\n",
       "\n",
       "    .dataframe thead th {\n",
       "        text-align: right;\n",
       "    }\n",
       "</style>\n",
       "<table border=\"1\" class=\"dataframe\">\n",
       "  <thead>\n",
       "    <tr style=\"text-align: right;\">\n",
       "      <th></th>\n",
       "      <th>perc_premium_paid_by_cash_credit</th>\n",
       "      <th>age_in_days</th>\n",
       "      <th>Income</th>\n",
       "      <th>Count_3-6_months_late</th>\n",
       "      <th>Count_6-12_months_late</th>\n",
       "      <th>Count_more_than_12_months_late</th>\n",
       "      <th>application_underwriting_score</th>\n",
       "      <th>no_of_premiums_paid</th>\n",
       "      <th>sourcing_channel_A</th>\n",
       "      <th>sourcing_channel_B</th>\n",
       "      <th>sourcing_channel_C</th>\n",
       "      <th>sourcing_channel_D</th>\n",
       "      <th>sourcing_channel_E</th>\n",
       "      <th>residence_area_type_Rural</th>\n",
       "      <th>residence_area_type_Urban</th>\n",
       "    </tr>\n",
       "  </thead>\n",
       "  <tbody>\n",
       "    <tr>\n",
       "      <th>count</th>\n",
       "      <td>5.589700e+04</td>\n",
       "      <td>5.589700e+04</td>\n",
       "      <td>5.589700e+04</td>\n",
       "      <td>5.589700e+04</td>\n",
       "      <td>5.589700e+04</td>\n",
       "      <td>5.589700e+04</td>\n",
       "      <td>5.589700e+04</td>\n",
       "      <td>5.589700e+04</td>\n",
       "      <td>5.589700e+04</td>\n",
       "      <td>5.589700e+04</td>\n",
       "      <td>5.589700e+04</td>\n",
       "      <td>5.589700e+04</td>\n",
       "      <td>5.589700e+04</td>\n",
       "      <td>5.589700e+04</td>\n",
       "      <td>5.589700e+04</td>\n",
       "    </tr>\n",
       "    <tr>\n",
       "      <th>mean</th>\n",
       "      <td>1.189810e-16</td>\n",
       "      <td>-2.313519e-16</td>\n",
       "      <td>2.669445e-17</td>\n",
       "      <td>-1.010576e-17</td>\n",
       "      <td>-1.855900e-17</td>\n",
       "      <td>4.855848e-17</td>\n",
       "      <td>6.529526e-15</td>\n",
       "      <td>1.417348e-17</td>\n",
       "      <td>-1.449127e-17</td>\n",
       "      <td>2.542329e-19</td>\n",
       "      <td>5.656681e-17</td>\n",
       "      <td>2.453347e-17</td>\n",
       "      <td>-8.135452e-18</td>\n",
       "      <td>-1.662683e-16</td>\n",
       "      <td>-1.703360e-17</td>\n",
       "    </tr>\n",
       "    <tr>\n",
       "      <th>std</th>\n",
       "      <td>1.000009e+00</td>\n",
       "      <td>1.000009e+00</td>\n",
       "      <td>1.000009e+00</td>\n",
       "      <td>1.000009e+00</td>\n",
       "      <td>1.000009e+00</td>\n",
       "      <td>1.000009e+00</td>\n",
       "      <td>1.000009e+00</td>\n",
       "      <td>1.000009e+00</td>\n",
       "      <td>1.000009e+00</td>\n",
       "      <td>1.000009e+00</td>\n",
       "      <td>1.000009e+00</td>\n",
       "      <td>1.000009e+00</td>\n",
       "      <td>1.000009e+00</td>\n",
       "      <td>1.000009e+00</td>\n",
       "      <td>1.000009e+00</td>\n",
       "    </tr>\n",
       "    <tr>\n",
       "      <th>min</th>\n",
       "      <td>-9.385783e-01</td>\n",
       "      <td>-2.145369e+00</td>\n",
       "      <td>-4.528186e-01</td>\n",
       "      <td>-3.598424e-01</td>\n",
       "      <td>-1.783160e-01</td>\n",
       "      <td>-1.940649e-01</td>\n",
       "      <td>-9.832360e+00</td>\n",
       "      <td>-1.717654e+00</td>\n",
       "      <td>-1.085880e+00</td>\n",
       "      <td>-5.106733e-01</td>\n",
       "      <td>-4.210400e-01</td>\n",
       "      <td>-3.221298e-01</td>\n",
       "      <td>-8.669615e-02</td>\n",
       "      <td>-8.117635e-01</td>\n",
       "      <td>-1.231886e+00</td>\n",
       "    </tr>\n",
       "    <tr>\n",
       "      <th>25%</th>\n",
       "      <td>-8.368035e-01</td>\n",
       "      <td>-7.432228e-01</td>\n",
       "      <td>-2.467269e-01</td>\n",
       "      <td>-3.598424e-01</td>\n",
       "      <td>-1.783160e-01</td>\n",
       "      <td>-1.940649e-01</td>\n",
       "      <td>-3.372013e-01</td>\n",
       "      <td>-7.484439e-01</td>\n",
       "      <td>-1.085880e+00</td>\n",
       "      <td>-5.106733e-01</td>\n",
       "      <td>-4.210400e-01</td>\n",
       "      <td>-3.221298e-01</td>\n",
       "      <td>-8.669615e-02</td>\n",
       "      <td>-8.117635e-01</td>\n",
       "      <td>-1.231886e+00</td>\n",
       "    </tr>\n",
       "    <tr>\n",
       "      <th>50%</th>\n",
       "      <td>-4.356911e-01</td>\n",
       "      <td>-4.214982e-02</td>\n",
       "      <td>-1.010854e-01</td>\n",
       "      <td>-3.598424e-01</td>\n",
       "      <td>-1.783160e-01</td>\n",
       "      <td>-1.940649e-01</td>\n",
       "      <td>1.880040e-01</td>\n",
       "      <td>-1.669177e-01</td>\n",
       "      <td>9.209121e-01</td>\n",
       "      <td>-5.106733e-01</td>\n",
       "      <td>-4.210400e-01</td>\n",
       "      <td>-3.221298e-01</td>\n",
       "      <td>-8.669615e-02</td>\n",
       "      <td>-8.117635e-01</td>\n",
       "      <td>8.117635e-01</td>\n",
       "    </tr>\n",
       "    <tr>\n",
       "      <th>75%</th>\n",
       "      <td>6.628778e-01</td>\n",
       "      <td>7.276483e-01</td>\n",
       "      <td>1.092855e-01</td>\n",
       "      <td>-3.598424e-01</td>\n",
       "      <td>-1.783160e-01</td>\n",
       "      <td>-1.940649e-01</td>\n",
       "      <td>6.164609e-01</td>\n",
       "      <td>6.084505e-01</td>\n",
       "      <td>9.209121e-01</td>\n",
       "      <td>-5.106733e-01</td>\n",
       "      <td>-4.210400e-01</td>\n",
       "      <td>-3.221298e-01</td>\n",
       "      <td>-8.669615e-02</td>\n",
       "      <td>1.231886e+00</td>\n",
       "      <td>8.117635e-01</td>\n",
       "    </tr>\n",
       "    <tr>\n",
       "      <th>max</th>\n",
       "      <td>2.054798e+00</td>\n",
       "      <td>3.600665e+00</td>\n",
       "      <td>1.318538e+02</td>\n",
       "      <td>1.847495e+01</td>\n",
       "      <td>3.912685e+01</td>\n",
       "      <td>3.521368e+01</td>\n",
       "      <td>1.127845e+00</td>\n",
       "      <td>9.525185e+00</td>\n",
       "      <td>9.209121e-01</td>\n",
       "      <td>1.958199e+00</td>\n",
       "      <td>2.375072e+00</td>\n",
       "      <td>3.104338e+00</td>\n",
       "      <td>1.153454e+01</td>\n",
       "      <td>1.231886e+00</td>\n",
       "      <td>8.117635e-01</td>\n",
       "    </tr>\n",
       "  </tbody>\n",
       "</table>\n",
       "</div>"
      ],
      "text/plain": [
       "       perc_premium_paid_by_cash_credit   age_in_days        Income  \\\n",
       "count                      5.589700e+04  5.589700e+04  5.589700e+04   \n",
       "mean                       1.189810e-16 -2.313519e-16  2.669445e-17   \n",
       "std                        1.000009e+00  1.000009e+00  1.000009e+00   \n",
       "min                       -9.385783e-01 -2.145369e+00 -4.528186e-01   \n",
       "25%                       -8.368035e-01 -7.432228e-01 -2.467269e-01   \n",
       "50%                       -4.356911e-01 -4.214982e-02 -1.010854e-01   \n",
       "75%                        6.628778e-01  7.276483e-01  1.092855e-01   \n",
       "max                        2.054798e+00  3.600665e+00  1.318538e+02   \n",
       "\n",
       "       Count_3-6_months_late  Count_6-12_months_late  \\\n",
       "count           5.589700e+04            5.589700e+04   \n",
       "mean           -1.010576e-17           -1.855900e-17   \n",
       "std             1.000009e+00            1.000009e+00   \n",
       "min            -3.598424e-01           -1.783160e-01   \n",
       "25%            -3.598424e-01           -1.783160e-01   \n",
       "50%            -3.598424e-01           -1.783160e-01   \n",
       "75%            -3.598424e-01           -1.783160e-01   \n",
       "max             1.847495e+01            3.912685e+01   \n",
       "\n",
       "       Count_more_than_12_months_late  application_underwriting_score  \\\n",
       "count                    5.589700e+04                    5.589700e+04   \n",
       "mean                     4.855848e-17                    6.529526e-15   \n",
       "std                      1.000009e+00                    1.000009e+00   \n",
       "min                     -1.940649e-01                   -9.832360e+00   \n",
       "25%                     -1.940649e-01                   -3.372013e-01   \n",
       "50%                     -1.940649e-01                    1.880040e-01   \n",
       "75%                     -1.940649e-01                    6.164609e-01   \n",
       "max                      3.521368e+01                    1.127845e+00   \n",
       "\n",
       "       no_of_premiums_paid  sourcing_channel_A  sourcing_channel_B  \\\n",
       "count         5.589700e+04        5.589700e+04        5.589700e+04   \n",
       "mean          1.417348e-17       -1.449127e-17        2.542329e-19   \n",
       "std           1.000009e+00        1.000009e+00        1.000009e+00   \n",
       "min          -1.717654e+00       -1.085880e+00       -5.106733e-01   \n",
       "25%          -7.484439e-01       -1.085880e+00       -5.106733e-01   \n",
       "50%          -1.669177e-01        9.209121e-01       -5.106733e-01   \n",
       "75%           6.084505e-01        9.209121e-01       -5.106733e-01   \n",
       "max           9.525185e+00        9.209121e-01        1.958199e+00   \n",
       "\n",
       "       sourcing_channel_C  sourcing_channel_D  sourcing_channel_E  \\\n",
       "count        5.589700e+04        5.589700e+04        5.589700e+04   \n",
       "mean         5.656681e-17        2.453347e-17       -8.135452e-18   \n",
       "std          1.000009e+00        1.000009e+00        1.000009e+00   \n",
       "min         -4.210400e-01       -3.221298e-01       -8.669615e-02   \n",
       "25%         -4.210400e-01       -3.221298e-01       -8.669615e-02   \n",
       "50%         -4.210400e-01       -3.221298e-01       -8.669615e-02   \n",
       "75%         -4.210400e-01       -3.221298e-01       -8.669615e-02   \n",
       "max          2.375072e+00        3.104338e+00        1.153454e+01   \n",
       "\n",
       "       residence_area_type_Rural  residence_area_type_Urban  \n",
       "count               5.589700e+04               5.589700e+04  \n",
       "mean               -1.662683e-16              -1.703360e-17  \n",
       "std                 1.000009e+00               1.000009e+00  \n",
       "min                -8.117635e-01              -1.231886e+00  \n",
       "25%                -8.117635e-01              -1.231886e+00  \n",
       "50%                -8.117635e-01               8.117635e-01  \n",
       "75%                 1.231886e+00               8.117635e-01  \n",
       "max                 1.231886e+00               8.117635e-01  "
      ]
     },
     "execution_count": 28,
     "metadata": {},
     "output_type": "execute_result"
    }
   ],
   "source": [
    "X_train.describe()"
   ]
  },
  {
   "cell_type": "code",
   "execution_count": 29,
   "id": "590cbf66-efa4-4f32-903b-acb8bd121bc7",
   "metadata": {},
   "outputs": [
    {
     "data": {
      "text/html": [
       "<div>\n",
       "<style scoped>\n",
       "    .dataframe tbody tr th:only-of-type {\n",
       "        vertical-align: middle;\n",
       "    }\n",
       "\n",
       "    .dataframe tbody tr th {\n",
       "        vertical-align: top;\n",
       "    }\n",
       "\n",
       "    .dataframe thead th {\n",
       "        text-align: right;\n",
       "    }\n",
       "</style>\n",
       "<table border=\"1\" class=\"dataframe\">\n",
       "  <thead>\n",
       "    <tr style=\"text-align: right;\">\n",
       "      <th></th>\n",
       "      <th>perc_premium_paid_by_cash_credit</th>\n",
       "      <th>age_in_days</th>\n",
       "      <th>Income</th>\n",
       "      <th>Count_3-6_months_late</th>\n",
       "      <th>Count_6-12_months_late</th>\n",
       "      <th>Count_more_than_12_months_late</th>\n",
       "      <th>application_underwriting_score</th>\n",
       "      <th>no_of_premiums_paid</th>\n",
       "    </tr>\n",
       "  </thead>\n",
       "  <tbody>\n",
       "    <tr>\n",
       "      <th>count</th>\n",
       "      <td>23956.000000</td>\n",
       "      <td>23956.000000</td>\n",
       "      <td>2.395600e+04</td>\n",
       "      <td>23956.000000</td>\n",
       "      <td>23956.000000</td>\n",
       "      <td>23956.000000</td>\n",
       "      <td>23956.000000</td>\n",
       "      <td>23956.000000</td>\n",
       "    </tr>\n",
       "    <tr>\n",
       "      <th>mean</th>\n",
       "      <td>0.316005</td>\n",
       "      <td>18849.337786</td>\n",
       "      <td>2.104672e+05</td>\n",
       "      <td>0.248372</td>\n",
       "      <td>0.080356</td>\n",
       "      <td>0.059108</td>\n",
       "      <td>99.069414</td>\n",
       "      <td>10.870387</td>\n",
       "    </tr>\n",
       "    <tr>\n",
       "      <th>std</th>\n",
       "      <td>0.336869</td>\n",
       "      <td>5207.693705</td>\n",
       "      <td>6.604547e+05</td>\n",
       "      <td>0.693175</td>\n",
       "      <td>0.444842</td>\n",
       "      <td>0.314560</td>\n",
       "      <td>0.733033</td>\n",
       "      <td>5.198223</td>\n",
       "    </tr>\n",
       "    <tr>\n",
       "      <th>min</th>\n",
       "      <td>0.000000</td>\n",
       "      <td>7670.000000</td>\n",
       "      <td>2.403000e+04</td>\n",
       "      <td>0.000000</td>\n",
       "      <td>0.000000</td>\n",
       "      <td>0.000000</td>\n",
       "      <td>91.900000</td>\n",
       "      <td>2.000000</td>\n",
       "    </tr>\n",
       "    <tr>\n",
       "      <th>25%</th>\n",
       "      <td>0.033000</td>\n",
       "      <td>14975.000000</td>\n",
       "      <td>1.080475e+05</td>\n",
       "      <td>0.000000</td>\n",
       "      <td>0.000000</td>\n",
       "      <td>0.000000</td>\n",
       "      <td>98.830000</td>\n",
       "      <td>7.000000</td>\n",
       "    </tr>\n",
       "    <tr>\n",
       "      <th>50%</th>\n",
       "      <td>0.166000</td>\n",
       "      <td>18625.000000</td>\n",
       "      <td>1.655600e+05</td>\n",
       "      <td>0.000000</td>\n",
       "      <td>0.000000</td>\n",
       "      <td>0.000000</td>\n",
       "      <td>99.210000</td>\n",
       "      <td>10.000000</td>\n",
       "    </tr>\n",
       "    <tr>\n",
       "      <th>75%</th>\n",
       "      <td>0.543250</td>\n",
       "      <td>22636.000000</td>\n",
       "      <td>2.501225e+05</td>\n",
       "      <td>0.000000</td>\n",
       "      <td>0.000000</td>\n",
       "      <td>0.000000</td>\n",
       "      <td>99.520000</td>\n",
       "      <td>14.000000</td>\n",
       "    </tr>\n",
       "    <tr>\n",
       "      <th>max</th>\n",
       "      <td>1.000000</td>\n",
       "      <td>37240.000000</td>\n",
       "      <td>9.026260e+07</td>\n",
       "      <td>11.000000</td>\n",
       "      <td>14.000000</td>\n",
       "      <td>8.000000</td>\n",
       "      <td>99.890000</td>\n",
       "      <td>58.000000</td>\n",
       "    </tr>\n",
       "  </tbody>\n",
       "</table>\n",
       "</div>"
      ],
      "text/plain": [
       "       perc_premium_paid_by_cash_credit   age_in_days        Income  \\\n",
       "count                      23956.000000  23956.000000  2.395600e+04   \n",
       "mean                           0.316005  18849.337786  2.104672e+05   \n",
       "std                            0.336869   5207.693705  6.604547e+05   \n",
       "min                            0.000000   7670.000000  2.403000e+04   \n",
       "25%                            0.033000  14975.000000  1.080475e+05   \n",
       "50%                            0.166000  18625.000000  1.655600e+05   \n",
       "75%                            0.543250  22636.000000  2.501225e+05   \n",
       "max                            1.000000  37240.000000  9.026260e+07   \n",
       "\n",
       "       Count_3-6_months_late  Count_6-12_months_late  \\\n",
       "count           23956.000000            23956.000000   \n",
       "mean                0.248372                0.080356   \n",
       "std                 0.693175                0.444842   \n",
       "min                 0.000000                0.000000   \n",
       "25%                 0.000000                0.000000   \n",
       "50%                 0.000000                0.000000   \n",
       "75%                 0.000000                0.000000   \n",
       "max                11.000000               14.000000   \n",
       "\n",
       "       Count_more_than_12_months_late  application_underwriting_score  \\\n",
       "count                    23956.000000                    23956.000000   \n",
       "mean                         0.059108                       99.069414   \n",
       "std                          0.314560                        0.733033   \n",
       "min                          0.000000                       91.900000   \n",
       "25%                          0.000000                       98.830000   \n",
       "50%                          0.000000                       99.210000   \n",
       "75%                          0.000000                       99.520000   \n",
       "max                          8.000000                       99.890000   \n",
       "\n",
       "       no_of_premiums_paid  \n",
       "count         23956.000000  \n",
       "mean             10.870387  \n",
       "std               5.198223  \n",
       "min               2.000000  \n",
       "25%               7.000000  \n",
       "50%              10.000000  \n",
       "75%              14.000000  \n",
       "max              58.000000  "
      ]
     },
     "execution_count": 29,
     "metadata": {},
     "output_type": "execute_result"
    }
   ],
   "source": [
    "X_test.describe()"
   ]
  },
  {
   "cell_type": "code",
   "execution_count": 30,
   "id": "2c9c118e-4413-43ab-8218-efcaf63217ce",
   "metadata": {},
   "outputs": [],
   "source": [
    "X_test.loc[:,:] = sd.transform(X_test)"
   ]
  },
  {
   "cell_type": "code",
   "execution_count": 31,
   "id": "9aed22a3-aff1-4309-b90b-250649cf7815",
   "metadata": {},
   "outputs": [
    {
     "data": {
      "text/html": [
       "<div>\n",
       "<style scoped>\n",
       "    .dataframe tbody tr th:only-of-type {\n",
       "        vertical-align: middle;\n",
       "    }\n",
       "\n",
       "    .dataframe tbody tr th {\n",
       "        vertical-align: top;\n",
       "    }\n",
       "\n",
       "    .dataframe thead th {\n",
       "        text-align: right;\n",
       "    }\n",
       "</style>\n",
       "<table border=\"1\" class=\"dataframe\">\n",
       "  <thead>\n",
       "    <tr style=\"text-align: right;\">\n",
       "      <th></th>\n",
       "      <th>perc_premium_paid_by_cash_credit</th>\n",
       "      <th>age_in_days</th>\n",
       "      <th>Income</th>\n",
       "      <th>Count_3-6_months_late</th>\n",
       "      <th>Count_6-12_months_late</th>\n",
       "      <th>Count_more_than_12_months_late</th>\n",
       "      <th>application_underwriting_score</th>\n",
       "      <th>no_of_premiums_paid</th>\n",
       "      <th>sourcing_channel_A</th>\n",
       "      <th>sourcing_channel_B</th>\n",
       "      <th>sourcing_channel_C</th>\n",
       "      <th>sourcing_channel_D</th>\n",
       "      <th>sourcing_channel_E</th>\n",
       "      <th>residence_area_type_Rural</th>\n",
       "      <th>residence_area_type_Urban</th>\n",
       "    </tr>\n",
       "  </thead>\n",
       "  <tbody>\n",
       "    <tr>\n",
       "      <th>count</th>\n",
       "      <td>23956.000000</td>\n",
       "      <td>23956.000000</td>\n",
       "      <td>23956.000000</td>\n",
       "      <td>23956.000000</td>\n",
       "      <td>23956.000000</td>\n",
       "      <td>23956.000000</td>\n",
       "      <td>23956.000000</td>\n",
       "      <td>23956.000000</td>\n",
       "      <td>23956.000000</td>\n",
       "      <td>23956.000000</td>\n",
       "      <td>23956.000000</td>\n",
       "      <td>23956.000000</td>\n",
       "      <td>23956.000000</td>\n",
       "      <td>23956.000000</td>\n",
       "      <td>23956.000000</td>\n",
       "    </tr>\n",
       "    <tr>\n",
       "      <th>mean</th>\n",
       "      <td>0.007343</td>\n",
       "      <td>0.000724</td>\n",
       "      <td>0.005692</td>\n",
       "      <td>0.000006</td>\n",
       "      <td>0.007472</td>\n",
       "      <td>-0.003802</td>\n",
       "      <td>-0.006302</td>\n",
       "      <td>0.001800</td>\n",
       "      <td>-0.006253</td>\n",
       "      <td>-0.000533</td>\n",
       "      <td>0.001715</td>\n",
       "      <td>0.007415</td>\n",
       "      <td>0.006444</td>\n",
       "      <td>-0.004148</td>\n",
       "      <td>0.004148</td>\n",
       "    </tr>\n",
       "    <tr>\n",
       "      <th>std</th>\n",
       "      <td>1.008374</td>\n",
       "      <td>0.999719</td>\n",
       "      <td>1.624275</td>\n",
       "      <td>1.004293</td>\n",
       "      <td>1.028505</td>\n",
       "      <td>1.012533</td>\n",
       "      <td>1.013139</td>\n",
       "      <td>1.007634</td>\n",
       "      <td>1.000517</td>\n",
       "      <td>0.999635</td>\n",
       "      <td>1.001694</td>\n",
       "      <td>1.010257</td>\n",
       "      <td>1.036233</td>\n",
       "      <td>0.999140</td>\n",
       "      <td>0.999140</td>\n",
       "    </tr>\n",
       "    <tr>\n",
       "      <th>min</th>\n",
       "      <td>-0.938578</td>\n",
       "      <td>-2.145369</td>\n",
       "      <td>-0.452819</td>\n",
       "      <td>-0.359842</td>\n",
       "      <td>-0.178316</td>\n",
       "      <td>-0.194065</td>\n",
       "      <td>-9.915287</td>\n",
       "      <td>-1.717654</td>\n",
       "      <td>-1.085880</td>\n",
       "      <td>-0.510673</td>\n",
       "      <td>-0.421040</td>\n",
       "      <td>-0.322130</td>\n",
       "      <td>-0.086696</td>\n",
       "      <td>-0.811764</td>\n",
       "      <td>-1.231886</td>\n",
       "    </tr>\n",
       "    <tr>\n",
       "      <th>25%</th>\n",
       "      <td>-0.839797</td>\n",
       "      <td>-0.743031</td>\n",
       "      <td>-0.246192</td>\n",
       "      <td>-0.359842</td>\n",
       "      <td>-0.178316</td>\n",
       "      <td>-0.194065</td>\n",
       "      <td>-0.337201</td>\n",
       "      <td>-0.748444</td>\n",
       "      <td>-1.085880</td>\n",
       "      <td>-0.510673</td>\n",
       "      <td>-0.421040</td>\n",
       "      <td>-0.322130</td>\n",
       "      <td>-0.086696</td>\n",
       "      <td>-0.811764</td>\n",
       "      <td>-1.231886</td>\n",
       "    </tr>\n",
       "    <tr>\n",
       "      <th>50%</th>\n",
       "      <td>-0.441678</td>\n",
       "      <td>-0.042342</td>\n",
       "      <td>-0.104750</td>\n",
       "      <td>-0.359842</td>\n",
       "      <td>-0.178316</td>\n",
       "      <td>-0.194065</td>\n",
       "      <td>0.188004</td>\n",
       "      <td>-0.166918</td>\n",
       "      <td>0.920912</td>\n",
       "      <td>-0.510673</td>\n",
       "      <td>-0.421040</td>\n",
       "      <td>-0.322130</td>\n",
       "      <td>-0.086696</td>\n",
       "      <td>-0.811764</td>\n",
       "      <td>0.811764</td>\n",
       "    </tr>\n",
       "    <tr>\n",
       "      <th>75%</th>\n",
       "      <td>0.687573</td>\n",
       "      <td>0.727648</td>\n",
       "      <td>0.103217</td>\n",
       "      <td>-0.359842</td>\n",
       "      <td>-0.178316</td>\n",
       "      <td>-0.194065</td>\n",
       "      <td>0.616461</td>\n",
       "      <td>0.608451</td>\n",
       "      <td>0.920912</td>\n",
       "      <td>-0.510673</td>\n",
       "      <td>-0.421040</td>\n",
       "      <td>-0.322130</td>\n",
       "      <td>-0.086696</td>\n",
       "      <td>1.231886</td>\n",
       "      <td>0.811764</td>\n",
       "    </tr>\n",
       "    <tr>\n",
       "      <th>max</th>\n",
       "      <td>2.054798</td>\n",
       "      <td>3.531172</td>\n",
       "      <td>221.473472</td>\n",
       "      <td>15.577291</td>\n",
       "      <td>32.190643</td>\n",
       "      <td>25.557023</td>\n",
       "      <td>1.127845</td>\n",
       "      <td>9.137501</td>\n",
       "      <td>0.920912</td>\n",
       "      <td>1.958199</td>\n",
       "      <td>2.375072</td>\n",
       "      <td>3.104338</td>\n",
       "      <td>11.534538</td>\n",
       "      <td>1.231886</td>\n",
       "      <td>0.811764</td>\n",
       "    </tr>\n",
       "  </tbody>\n",
       "</table>\n",
       "</div>"
      ],
      "text/plain": [
       "       perc_premium_paid_by_cash_credit   age_in_days        Income  \\\n",
       "count                      23956.000000  23956.000000  23956.000000   \n",
       "mean                           0.007343      0.000724      0.005692   \n",
       "std                            1.008374      0.999719      1.624275   \n",
       "min                           -0.938578     -2.145369     -0.452819   \n",
       "25%                           -0.839797     -0.743031     -0.246192   \n",
       "50%                           -0.441678     -0.042342     -0.104750   \n",
       "75%                            0.687573      0.727648      0.103217   \n",
       "max                            2.054798      3.531172    221.473472   \n",
       "\n",
       "       Count_3-6_months_late  Count_6-12_months_late  \\\n",
       "count           23956.000000            23956.000000   \n",
       "mean                0.000006                0.007472   \n",
       "std                 1.004293                1.028505   \n",
       "min                -0.359842               -0.178316   \n",
       "25%                -0.359842               -0.178316   \n",
       "50%                -0.359842               -0.178316   \n",
       "75%                -0.359842               -0.178316   \n",
       "max                15.577291               32.190643   \n",
       "\n",
       "       Count_more_than_12_months_late  application_underwriting_score  \\\n",
       "count                    23956.000000                    23956.000000   \n",
       "mean                        -0.003802                       -0.006302   \n",
       "std                          1.012533                        1.013139   \n",
       "min                         -0.194065                       -9.915287   \n",
       "25%                         -0.194065                       -0.337201   \n",
       "50%                         -0.194065                        0.188004   \n",
       "75%                         -0.194065                        0.616461   \n",
       "max                         25.557023                        1.127845   \n",
       "\n",
       "       no_of_premiums_paid  sourcing_channel_A  sourcing_channel_B  \\\n",
       "count         23956.000000        23956.000000        23956.000000   \n",
       "mean              0.001800           -0.006253           -0.000533   \n",
       "std               1.007634            1.000517            0.999635   \n",
       "min              -1.717654           -1.085880           -0.510673   \n",
       "25%              -0.748444           -1.085880           -0.510673   \n",
       "50%              -0.166918            0.920912           -0.510673   \n",
       "75%               0.608451            0.920912           -0.510673   \n",
       "max               9.137501            0.920912            1.958199   \n",
       "\n",
       "       sourcing_channel_C  sourcing_channel_D  sourcing_channel_E  \\\n",
       "count        23956.000000        23956.000000        23956.000000   \n",
       "mean             0.001715            0.007415            0.006444   \n",
       "std              1.001694            1.010257            1.036233   \n",
       "min             -0.421040           -0.322130           -0.086696   \n",
       "25%             -0.421040           -0.322130           -0.086696   \n",
       "50%             -0.421040           -0.322130           -0.086696   \n",
       "75%             -0.421040           -0.322130           -0.086696   \n",
       "max              2.375072            3.104338           11.534538   \n",
       "\n",
       "       residence_area_type_Rural  residence_area_type_Urban  \n",
       "count               23956.000000               23956.000000  \n",
       "mean                   -0.004148                   0.004148  \n",
       "std                     0.999140                   0.999140  \n",
       "min                    -0.811764                  -1.231886  \n",
       "25%                    -0.811764                  -1.231886  \n",
       "50%                    -0.811764                   0.811764  \n",
       "75%                     1.231886                   0.811764  \n",
       "max                     1.231886                   0.811764  "
      ]
     },
     "execution_count": 31,
     "metadata": {},
     "output_type": "execute_result"
    }
   ],
   "source": [
    "X_test.describe()"
   ]
  },
  {
   "cell_type": "markdown",
   "id": "1dc561cf-27a9-4a07-b03c-01770e2b9e35",
   "metadata": {},
   "source": [
    "# formatting target column if required"
   ]
  },
  {
   "cell_type": "code",
   "execution_count": 32,
   "id": "cc2ae60e-d40b-497a-87bf-64978e9ba0e3",
   "metadata": {},
   "outputs": [
    {
     "data": {
      "text/plain": [
       "dtype('int64')"
      ]
     },
     "execution_count": 32,
     "metadata": {},
     "output_type": "execute_result"
    }
   ],
   "source": [
    "Y.dtypes"
   ]
  },
  {
   "cell_type": "code",
   "execution_count": 33,
   "id": "dc47196e-e9f9-4850-be03-d48375f8b702",
   "metadata": {},
   "outputs": [
    {
     "data": {
      "text/plain": [
       "target\n",
       "1    74854\n",
       "0     4999\n",
       "Name: count, dtype: int64"
      ]
     },
     "execution_count": 33,
     "metadata": {},
     "output_type": "execute_result"
    }
   ],
   "source": [
    "Y.value_counts()"
   ]
  },
  {
   "cell_type": "code",
   "execution_count": 71,
   "id": "6d6a2455-9ea9-411b-b63b-d8b05cc9ea59",
   "metadata": {},
   "outputs": [
    {
     "data": {
      "text/plain": [
       "target\n",
       "1    0.937397\n",
       "0    0.062603\n",
       "Name: proportion, dtype: float64"
      ]
     },
     "execution_count": 71,
     "metadata": {},
     "output_type": "execute_result"
    }
   ],
   "source": [
    "Y.value_counts(normalize=True)"
   ]
  },
  {
   "cell_type": "code",
   "execution_count": 34,
   "id": "b2117d93-1cc9-46b8-859d-3c54bcc14c5f",
   "metadata": {},
   "outputs": [
    {
     "data": {
      "text/plain": [
       "array([1, 0], dtype=int64)"
      ]
     },
     "execution_count": 34,
     "metadata": {},
     "output_type": "execute_result"
    }
   ],
   "source": [
    "Y.unique()"
   ]
  },
  {
   "cell_type": "markdown",
   "id": "d081f2f4-4451-4add-855b-fb45c5f5d776",
   "metadata": {},
   "source": [
    "# feature selection using pca"
   ]
  },
  {
   "cell_type": "code",
   "execution_count": 35,
   "id": "78f6230a-7338-4fff-8c07-5976d7e5b734",
   "metadata": {},
   "outputs": [],
   "source": [
    "from sklearn.decomposition import PCA\n",
    "from sklearn.tree import DecisionTreeClassifier\n",
    "from sklearn.feature_selection import SelectFromModel"
   ]
  },
  {
   "cell_type": "code",
   "execution_count": 36,
   "id": "20457fac-1791-419d-9b5a-552e92a5598a",
   "metadata": {},
   "outputs": [
    {
     "data": {
      "text/html": [
       "<style>#sk-container-id-2 {color: black;}#sk-container-id-2 pre{padding: 0;}#sk-container-id-2 div.sk-toggleable {background-color: white;}#sk-container-id-2 label.sk-toggleable__label {cursor: pointer;display: block;width: 100%;margin-bottom: 0;padding: 0.3em;box-sizing: border-box;text-align: center;}#sk-container-id-2 label.sk-toggleable__label-arrow:before {content: \"▸\";float: left;margin-right: 0.25em;color: #696969;}#sk-container-id-2 label.sk-toggleable__label-arrow:hover:before {color: black;}#sk-container-id-2 div.sk-estimator:hover label.sk-toggleable__label-arrow:before {color: black;}#sk-container-id-2 div.sk-toggleable__content {max-height: 0;max-width: 0;overflow: hidden;text-align: left;background-color: #f0f8ff;}#sk-container-id-2 div.sk-toggleable__content pre {margin: 0.2em;color: black;border-radius: 0.25em;background-color: #f0f8ff;}#sk-container-id-2 input.sk-toggleable__control:checked~div.sk-toggleable__content {max-height: 200px;max-width: 100%;overflow: auto;}#sk-container-id-2 input.sk-toggleable__control:checked~label.sk-toggleable__label-arrow:before {content: \"▾\";}#sk-container-id-2 div.sk-estimator input.sk-toggleable__control:checked~label.sk-toggleable__label {background-color: #d4ebff;}#sk-container-id-2 div.sk-label input.sk-toggleable__control:checked~label.sk-toggleable__label {background-color: #d4ebff;}#sk-container-id-2 input.sk-hidden--visually {border: 0;clip: rect(1px 1px 1px 1px);clip: rect(1px, 1px, 1px, 1px);height: 1px;margin: -1px;overflow: hidden;padding: 0;position: absolute;width: 1px;}#sk-container-id-2 div.sk-estimator {font-family: monospace;background-color: #f0f8ff;border: 1px dotted black;border-radius: 0.25em;box-sizing: border-box;margin-bottom: 0.5em;}#sk-container-id-2 div.sk-estimator:hover {background-color: #d4ebff;}#sk-container-id-2 div.sk-parallel-item::after {content: \"\";width: 100%;border-bottom: 1px solid gray;flex-grow: 1;}#sk-container-id-2 div.sk-label:hover label.sk-toggleable__label {background-color: #d4ebff;}#sk-container-id-2 div.sk-serial::before {content: \"\";position: absolute;border-left: 1px solid gray;box-sizing: border-box;top: 0;bottom: 0;left: 50%;z-index: 0;}#sk-container-id-2 div.sk-serial {display: flex;flex-direction: column;align-items: center;background-color: white;padding-right: 0.2em;padding-left: 0.2em;position: relative;}#sk-container-id-2 div.sk-item {position: relative;z-index: 1;}#sk-container-id-2 div.sk-parallel {display: flex;align-items: stretch;justify-content: center;background-color: white;position: relative;}#sk-container-id-2 div.sk-item::before, #sk-container-id-2 div.sk-parallel-item::before {content: \"\";position: absolute;border-left: 1px solid gray;box-sizing: border-box;top: 0;bottom: 0;left: 50%;z-index: -1;}#sk-container-id-2 div.sk-parallel-item {display: flex;flex-direction: column;z-index: 1;position: relative;background-color: white;}#sk-container-id-2 div.sk-parallel-item:first-child::after {align-self: flex-end;width: 50%;}#sk-container-id-2 div.sk-parallel-item:last-child::after {align-self: flex-start;width: 50%;}#sk-container-id-2 div.sk-parallel-item:only-child::after {width: 0;}#sk-container-id-2 div.sk-dashed-wrapped {border: 1px dashed gray;margin: 0 0.4em 0.5em 0.4em;box-sizing: border-box;padding-bottom: 0.4em;background-color: white;}#sk-container-id-2 div.sk-label label {font-family: monospace;font-weight: bold;display: inline-block;line-height: 1.2em;}#sk-container-id-2 div.sk-label-container {text-align: center;}#sk-container-id-2 div.sk-container {/* jupyter's `normalize.less` sets `[hidden] { display: none; }` but bootstrap.min.css set `[hidden] { display: none !important; }` so we also need the `!important` here to be able to override the default hidden behavior on the sphinx rendered scikit-learn.org. See: https://github.com/scikit-learn/scikit-learn/issues/21755 */display: inline-block !important;position: relative;}#sk-container-id-2 div.sk-text-repr-fallback {display: none;}</style><div id=\"sk-container-id-2\" class=\"sk-top-container\"><div class=\"sk-text-repr-fallback\"><pre>PCA(n_components=0.95, random_state=7)</pre><b>In a Jupyter environment, please rerun this cell to show the HTML representation or trust the notebook. <br />On GitHub, the HTML representation is unable to render, please try loading this page with nbviewer.org.</b></div><div class=\"sk-container\" hidden><div class=\"sk-item\"><div class=\"sk-estimator sk-toggleable\"><input class=\"sk-toggleable__control sk-hidden--visually\" id=\"sk-estimator-id-2\" type=\"checkbox\" checked><label for=\"sk-estimator-id-2\" class=\"sk-toggleable__label sk-toggleable__label-arrow\">PCA</label><div class=\"sk-toggleable__content\"><pre>PCA(n_components=0.95, random_state=7)</pre></div></div></div></div></div>"
      ],
      "text/plain": [
       "PCA(n_components=0.95, random_state=7)"
      ]
     },
     "execution_count": 36,
     "metadata": {},
     "output_type": "execute_result"
    }
   ],
   "source": [
    "pca = PCA(n_components = 0.95, random_state=7)\n",
    "pca.fit(X_train)"
   ]
  },
  {
   "cell_type": "code",
   "execution_count": 37,
   "id": "08e1356e-9c24-41f9-a6b9-ff22d89d326e",
   "metadata": {},
   "outputs": [
    {
     "data": {
      "text/plain": [
       "12"
      ]
     },
     "execution_count": 37,
     "metadata": {},
     "output_type": "execute_result"
    }
   ],
   "source": [
    "pca.n_components_"
   ]
  },
  {
   "cell_type": "code",
   "execution_count": 38,
   "id": "78602245-bc47-43c3-8509-385fa2c95f23",
   "metadata": {},
   "outputs": [
    {
     "data": {
      "text/plain": [
       "array([[ 2.29505846e-03,  6.44127813e-03,  9.21642971e-03,\n",
       "         6.00486796e-03, -4.16185942e-03, -5.44239733e-03,\n",
       "        -3.18992894e-05,  1.33879089e-02, -1.62601206e-02,\n",
       "         2.02533640e-02, -5.01020210e-05,  4.19599527e-03,\n",
       "        -1.51960203e-02, -7.06640979e-01,  7.06640979e-01],\n",
       "       [ 3.98743750e-01, -3.49261731e-01, -2.91880871e-03,\n",
       "         3.41562307e-01,  3.10697012e-01,  3.21874970e-01,\n",
       "        -1.49613494e-01, -5.13123283e-02, -4.75580454e-01,\n",
       "         2.00718788e-01,  2.63561983e-01,  1.99477971e-01,\n",
       "         3.72886688e-02,  6.38084514e-03, -6.38084514e-03],\n",
       "       [-2.70795821e-01,  4.75837242e-02,  1.66486500e-01,\n",
       "        -2.53112518e-01, -3.41237352e-01, -3.26112504e-01,\n",
       "        -5.41435573e-02,  2.55407063e-01, -5.58427339e-01,\n",
       "         4.14547791e-01,  2.08753209e-01,  1.10163365e-01,\n",
       "         4.12529979e-02,  1.67104721e-02, -1.67104721e-02],\n",
       "       [-6.13563315e-02,  3.74857937e-01,  5.69956847e-02,\n",
       "         3.43988356e-01,  5.91939662e-02,  2.33125844e-01,\n",
       "        -4.55321666e-01,  6.16085339e-01,  9.48529626e-02,\n",
       "         1.56326839e-01, -1.73488294e-01, -1.57552816e-01,\n",
       "        -2.97236725e-02,  9.22339247e-03, -9.22339247e-03],\n",
       "       [-2.30248248e-02,  1.79263827e-01, -2.34437688e-03,\n",
       "         2.74052019e-02,  1.89724117e-01,  1.33180199e-01,\n",
       "         3.66793485e-01, -2.55552919e-01, -7.46872808e-02,\n",
       "         6.45356343e-01, -5.25994825e-01, -1.16640581e-01,\n",
       "        -2.35022071e-02,  7.41288001e-03, -7.41288001e-03],\n",
       "       [-7.94819472e-02,  5.34030508e-03,  2.96278546e-01,\n",
       "         5.79703189e-02,  1.23407193e-02,  2.48720466e-02,\n",
       "         7.62763223e-02,  1.21746437e-01, -1.75143646e-02,\n",
       "        -2.05590521e-01, -4.20710305e-01,  8.10391365e-01,\n",
       "         6.91927567e-02,  2.02535565e-03, -2.02535565e-03],\n",
       "       [-2.53988998e-01,  2.52306526e-01,  5.75033350e-01,\n",
       "         1.62255956e-01,  1.93241122e-01,  2.47230632e-01,\n",
       "         4.60963344e-01,  2.70085768e-02, -5.83380006e-02,\n",
       "        -1.64516851e-01,  3.82277160e-01, -1.55177935e-01,\n",
       "         4.97074356e-02,  1.20597345e-03, -1.20597345e-03],\n",
       "       [ 6.91250407e-02, -6.56695839e-02,  6.48912128e-02,\n",
       "        -9.41732459e-03, -2.68938277e-02, -3.33292756e-02,\n",
       "        -4.44863279e-02,  6.76803337e-03,  1.51654267e-02,\n",
       "        -1.62593079e-02, -1.10089649e-01, -1.55167426e-01,\n",
       "         9.72534911e-01, -1.08524769e-02,  1.08524769e-02],\n",
       "       [ 4.21157240e-01, -2.78370599e-01,  7.06391961e-01,\n",
       "        -5.83206260e-02, -1.18681252e-01, -2.23612864e-01,\n",
       "        -1.65297224e-01, -1.48708927e-02,  1.86349667e-01,\n",
       "         1.09717245e-01, -1.61810876e-01, -2.22173404e-01,\n",
       "        -1.69546672e-01,  5.44492064e-03, -5.44492064e-03],\n",
       "       [ 6.09354309e-02,  2.22509702e-01,  6.29221822e-02,\n",
       "        -5.39841837e-01,  7.43910209e-01, -1.92763368e-01,\n",
       "        -2.28423862e-01,  3.83545531e-02, -4.17764464e-02,\n",
       "        -2.74146974e-02,  4.76549848e-02,  4.58555084e-02,\n",
       "         1.73809934e-02, -1.81484996e-03,  1.81484996e-03],\n",
       "       [-3.82697405e-01, -4.61529083e-01,  8.72860066e-02,\n",
       "        -4.46346671e-01, -3.54667888e-02,  6.17820150e-01,\n",
       "        -1.53027464e-01,  7.02005160e-02,  7.07827705e-02,\n",
       "         5.26003777e-02, -8.86411663e-02, -7.80850807e-02,\n",
       "        -2.42494140e-02, -5.68700650e-03,  5.68700650e-03],\n",
       "       [-3.76087312e-01, -5.39943970e-01, -7.46168133e-02,\n",
       "         3.03260624e-01,  3.70803779e-01, -4.15964041e-01,\n",
       "         1.83509428e-01,  3.08510331e-01,  9.34851987e-02,\n",
       "         4.20765742e-02, -8.06926247e-02, -1.11121609e-01,\n",
       "        -2.71703497e-02,  6.51038088e-04, -6.51038088e-04]])"
      ]
     },
     "execution_count": 38,
     "metadata": {},
     "output_type": "execute_result"
    }
   ],
   "source": [
    "pca.components_"
   ]
  },
  {
   "cell_type": "code",
   "execution_count": 39,
   "id": "b136791e-273d-4a55-8633-ccdaad1a903f",
   "metadata": {},
   "outputs": [],
   "source": [
    "X_train_pca = pca.transform(X_train)\n",
    "X_test_pca = pca.transform(X_test)"
   ]
  },
  {
   "cell_type": "markdown",
   "id": "3a91dc03-bdf2-4629-96e9-c461d210f173",
   "metadata": {},
   "source": [
    "# feature selection using decision tree"
   ]
  },
  {
   "cell_type": "code",
   "execution_count": 40,
   "id": "e9a776d3-241f-4781-a2d9-4082a04f8e8b",
   "metadata": {},
   "outputs": [],
   "source": [
    "dt = DecisionTreeClassifier(criterion='gini', random_state=7, class_weight='balanced')"
   ]
  },
  {
   "cell_type": "code",
   "execution_count": 41,
   "id": "f93081ff-1575-4acf-862d-9f3d22d818c2",
   "metadata": {},
   "outputs": [
    {
     "data": {
      "text/html": [
       "<style>#sk-container-id-3 {color: black;}#sk-container-id-3 pre{padding: 0;}#sk-container-id-3 div.sk-toggleable {background-color: white;}#sk-container-id-3 label.sk-toggleable__label {cursor: pointer;display: block;width: 100%;margin-bottom: 0;padding: 0.3em;box-sizing: border-box;text-align: center;}#sk-container-id-3 label.sk-toggleable__label-arrow:before {content: \"▸\";float: left;margin-right: 0.25em;color: #696969;}#sk-container-id-3 label.sk-toggleable__label-arrow:hover:before {color: black;}#sk-container-id-3 div.sk-estimator:hover label.sk-toggleable__label-arrow:before {color: black;}#sk-container-id-3 div.sk-toggleable__content {max-height: 0;max-width: 0;overflow: hidden;text-align: left;background-color: #f0f8ff;}#sk-container-id-3 div.sk-toggleable__content pre {margin: 0.2em;color: black;border-radius: 0.25em;background-color: #f0f8ff;}#sk-container-id-3 input.sk-toggleable__control:checked~div.sk-toggleable__content {max-height: 200px;max-width: 100%;overflow: auto;}#sk-container-id-3 input.sk-toggleable__control:checked~label.sk-toggleable__label-arrow:before {content: \"▾\";}#sk-container-id-3 div.sk-estimator input.sk-toggleable__control:checked~label.sk-toggleable__label {background-color: #d4ebff;}#sk-container-id-3 div.sk-label input.sk-toggleable__control:checked~label.sk-toggleable__label {background-color: #d4ebff;}#sk-container-id-3 input.sk-hidden--visually {border: 0;clip: rect(1px 1px 1px 1px);clip: rect(1px, 1px, 1px, 1px);height: 1px;margin: -1px;overflow: hidden;padding: 0;position: absolute;width: 1px;}#sk-container-id-3 div.sk-estimator {font-family: monospace;background-color: #f0f8ff;border: 1px dotted black;border-radius: 0.25em;box-sizing: border-box;margin-bottom: 0.5em;}#sk-container-id-3 div.sk-estimator:hover {background-color: #d4ebff;}#sk-container-id-3 div.sk-parallel-item::after {content: \"\";width: 100%;border-bottom: 1px solid gray;flex-grow: 1;}#sk-container-id-3 div.sk-label:hover label.sk-toggleable__label {background-color: #d4ebff;}#sk-container-id-3 div.sk-serial::before {content: \"\";position: absolute;border-left: 1px solid gray;box-sizing: border-box;top: 0;bottom: 0;left: 50%;z-index: 0;}#sk-container-id-3 div.sk-serial {display: flex;flex-direction: column;align-items: center;background-color: white;padding-right: 0.2em;padding-left: 0.2em;position: relative;}#sk-container-id-3 div.sk-item {position: relative;z-index: 1;}#sk-container-id-3 div.sk-parallel {display: flex;align-items: stretch;justify-content: center;background-color: white;position: relative;}#sk-container-id-3 div.sk-item::before, #sk-container-id-3 div.sk-parallel-item::before {content: \"\";position: absolute;border-left: 1px solid gray;box-sizing: border-box;top: 0;bottom: 0;left: 50%;z-index: -1;}#sk-container-id-3 div.sk-parallel-item {display: flex;flex-direction: column;z-index: 1;position: relative;background-color: white;}#sk-container-id-3 div.sk-parallel-item:first-child::after {align-self: flex-end;width: 50%;}#sk-container-id-3 div.sk-parallel-item:last-child::after {align-self: flex-start;width: 50%;}#sk-container-id-3 div.sk-parallel-item:only-child::after {width: 0;}#sk-container-id-3 div.sk-dashed-wrapped {border: 1px dashed gray;margin: 0 0.4em 0.5em 0.4em;box-sizing: border-box;padding-bottom: 0.4em;background-color: white;}#sk-container-id-3 div.sk-label label {font-family: monospace;font-weight: bold;display: inline-block;line-height: 1.2em;}#sk-container-id-3 div.sk-label-container {text-align: center;}#sk-container-id-3 div.sk-container {/* jupyter's `normalize.less` sets `[hidden] { display: none; }` but bootstrap.min.css set `[hidden] { display: none !important; }` so we also need the `!important` here to be able to override the default hidden behavior on the sphinx rendered scikit-learn.org. See: https://github.com/scikit-learn/scikit-learn/issues/21755 */display: inline-block !important;position: relative;}#sk-container-id-3 div.sk-text-repr-fallback {display: none;}</style><div id=\"sk-container-id-3\" class=\"sk-top-container\"><div class=\"sk-text-repr-fallback\"><pre>DecisionTreeClassifier(class_weight=&#x27;balanced&#x27;, random_state=7)</pre><b>In a Jupyter environment, please rerun this cell to show the HTML representation or trust the notebook. <br />On GitHub, the HTML representation is unable to render, please try loading this page with nbviewer.org.</b></div><div class=\"sk-container\" hidden><div class=\"sk-item\"><div class=\"sk-estimator sk-toggleable\"><input class=\"sk-toggleable__control sk-hidden--visually\" id=\"sk-estimator-id-3\" type=\"checkbox\" checked><label for=\"sk-estimator-id-3\" class=\"sk-toggleable__label sk-toggleable__label-arrow\">DecisionTreeClassifier</label><div class=\"sk-toggleable__content\"><pre>DecisionTreeClassifier(class_weight=&#x27;balanced&#x27;, random_state=7)</pre></div></div></div></div></div>"
      ],
      "text/plain": [
       "DecisionTreeClassifier(class_weight='balanced', random_state=7)"
      ]
     },
     "execution_count": 41,
     "metadata": {},
     "output_type": "execute_result"
    }
   ],
   "source": [
    "dt.fit(X_train, Y_train)"
   ]
  },
  {
   "cell_type": "code",
   "execution_count": 42,
   "id": "de4d51d9-d899-413d-b180-cdce6d34d447",
   "metadata": {},
   "outputs": [
    {
     "data": {
      "text/plain": [
       "array([0.28957681, 0.15187438, 0.1478954 , 0.06701284, 0.05690162,\n",
       "       0.02455394, 0.12842434, 0.07992456, 0.0112041 , 0.01023865,\n",
       "       0.008988  , 0.00701607, 0.00120744, 0.00865684, 0.00652501])"
      ]
     },
     "execution_count": 42,
     "metadata": {},
     "output_type": "execute_result"
    }
   ],
   "source": [
    "dt.feature_importances_"
   ]
  },
  {
   "cell_type": "code",
   "execution_count": 43,
   "id": "fcf672f3-dbcc-41ce-8be7-1416eefe1f25",
   "metadata": {},
   "outputs": [],
   "source": [
    "feature_tup = tuple(zip(X_train.columns, dt.feature_importances_))"
   ]
  },
  {
   "cell_type": "code",
   "execution_count": 44,
   "id": "bc6a2215-665a-41ea-8700-9ca5a1c3eccc",
   "metadata": {},
   "outputs": [
    {
     "data": {
      "text/plain": [
       "[('perc_premium_paid_by_cash_credit', 0.2895768133987442),\n",
       " ('age_in_days', 0.1518743835210055),\n",
       " ('Income', 0.14789540015896285),\n",
       " ('application_underwriting_score', 0.12842434020122767),\n",
       " ('no_of_premiums_paid', 0.07992455612116915),\n",
       " ('Count_3-6_months_late', 0.06701284150189889),\n",
       " ('Count_6-12_months_late', 0.05690161804211017),\n",
       " ('Count_more_than_12_months_late', 0.02455394187393631),\n",
       " ('sourcing_channel_A', 0.011204095624425071),\n",
       " ('sourcing_channel_B', 0.010238645101349605),\n",
       " ('sourcing_channel_C', 0.008988000384995184),\n",
       " ('residence_area_type_Rural', 0.008656839818645536),\n",
       " ('sourcing_channel_D', 0.007016073524857392),\n",
       " ('residence_area_type_Urban', 0.0065250126458957815),\n",
       " ('sourcing_channel_E', 0.0012074380807768038)]"
      ]
     },
     "execution_count": 44,
     "metadata": {},
     "output_type": "execute_result"
    }
   ],
   "source": [
    "sorted(feature_tup, key = lambda x : -x[1])"
   ]
  },
  {
   "cell_type": "code",
   "execution_count": 45,
   "id": "51e3e5fb-7fbf-4415-b0f4-87a732a64620",
   "metadata": {},
   "outputs": [],
   "source": [
    "sel = SelectFromModel(DecisionTreeClassifier(criterion='gini', random_state=7, class_weight='balanced'),threshold='mean')"
   ]
  },
  {
   "cell_type": "code",
   "execution_count": 46,
   "id": "3f445c37-f6b2-41bb-9e0a-68d89942d7b5",
   "metadata": {},
   "outputs": [
    {
     "data": {
      "text/html": [
       "<style>#sk-container-id-4 {color: black;}#sk-container-id-4 pre{padding: 0;}#sk-container-id-4 div.sk-toggleable {background-color: white;}#sk-container-id-4 label.sk-toggleable__label {cursor: pointer;display: block;width: 100%;margin-bottom: 0;padding: 0.3em;box-sizing: border-box;text-align: center;}#sk-container-id-4 label.sk-toggleable__label-arrow:before {content: \"▸\";float: left;margin-right: 0.25em;color: #696969;}#sk-container-id-4 label.sk-toggleable__label-arrow:hover:before {color: black;}#sk-container-id-4 div.sk-estimator:hover label.sk-toggleable__label-arrow:before {color: black;}#sk-container-id-4 div.sk-toggleable__content {max-height: 0;max-width: 0;overflow: hidden;text-align: left;background-color: #f0f8ff;}#sk-container-id-4 div.sk-toggleable__content pre {margin: 0.2em;color: black;border-radius: 0.25em;background-color: #f0f8ff;}#sk-container-id-4 input.sk-toggleable__control:checked~div.sk-toggleable__content {max-height: 200px;max-width: 100%;overflow: auto;}#sk-container-id-4 input.sk-toggleable__control:checked~label.sk-toggleable__label-arrow:before {content: \"▾\";}#sk-container-id-4 div.sk-estimator input.sk-toggleable__control:checked~label.sk-toggleable__label {background-color: #d4ebff;}#sk-container-id-4 div.sk-label input.sk-toggleable__control:checked~label.sk-toggleable__label {background-color: #d4ebff;}#sk-container-id-4 input.sk-hidden--visually {border: 0;clip: rect(1px 1px 1px 1px);clip: rect(1px, 1px, 1px, 1px);height: 1px;margin: -1px;overflow: hidden;padding: 0;position: absolute;width: 1px;}#sk-container-id-4 div.sk-estimator {font-family: monospace;background-color: #f0f8ff;border: 1px dotted black;border-radius: 0.25em;box-sizing: border-box;margin-bottom: 0.5em;}#sk-container-id-4 div.sk-estimator:hover {background-color: #d4ebff;}#sk-container-id-4 div.sk-parallel-item::after {content: \"\";width: 100%;border-bottom: 1px solid gray;flex-grow: 1;}#sk-container-id-4 div.sk-label:hover label.sk-toggleable__label {background-color: #d4ebff;}#sk-container-id-4 div.sk-serial::before {content: \"\";position: absolute;border-left: 1px solid gray;box-sizing: border-box;top: 0;bottom: 0;left: 50%;z-index: 0;}#sk-container-id-4 div.sk-serial {display: flex;flex-direction: column;align-items: center;background-color: white;padding-right: 0.2em;padding-left: 0.2em;position: relative;}#sk-container-id-4 div.sk-item {position: relative;z-index: 1;}#sk-container-id-4 div.sk-parallel {display: flex;align-items: stretch;justify-content: center;background-color: white;position: relative;}#sk-container-id-4 div.sk-item::before, #sk-container-id-4 div.sk-parallel-item::before {content: \"\";position: absolute;border-left: 1px solid gray;box-sizing: border-box;top: 0;bottom: 0;left: 50%;z-index: -1;}#sk-container-id-4 div.sk-parallel-item {display: flex;flex-direction: column;z-index: 1;position: relative;background-color: white;}#sk-container-id-4 div.sk-parallel-item:first-child::after {align-self: flex-end;width: 50%;}#sk-container-id-4 div.sk-parallel-item:last-child::after {align-self: flex-start;width: 50%;}#sk-container-id-4 div.sk-parallel-item:only-child::after {width: 0;}#sk-container-id-4 div.sk-dashed-wrapped {border: 1px dashed gray;margin: 0 0.4em 0.5em 0.4em;box-sizing: border-box;padding-bottom: 0.4em;background-color: white;}#sk-container-id-4 div.sk-label label {font-family: monospace;font-weight: bold;display: inline-block;line-height: 1.2em;}#sk-container-id-4 div.sk-label-container {text-align: center;}#sk-container-id-4 div.sk-container {/* jupyter's `normalize.less` sets `[hidden] { display: none; }` but bootstrap.min.css set `[hidden] { display: none !important; }` so we also need the `!important` here to be able to override the default hidden behavior on the sphinx rendered scikit-learn.org. See: https://github.com/scikit-learn/scikit-learn/issues/21755 */display: inline-block !important;position: relative;}#sk-container-id-4 div.sk-text-repr-fallback {display: none;}</style><div id=\"sk-container-id-4\" class=\"sk-top-container\"><div class=\"sk-text-repr-fallback\"><pre>SelectFromModel(estimator=DecisionTreeClassifier(class_weight=&#x27;balanced&#x27;,\n",
       "                                                 random_state=7),\n",
       "                threshold=&#x27;mean&#x27;)</pre><b>In a Jupyter environment, please rerun this cell to show the HTML representation or trust the notebook. <br />On GitHub, the HTML representation is unable to render, please try loading this page with nbviewer.org.</b></div><div class=\"sk-container\" hidden><div class=\"sk-item sk-dashed-wrapped\"><div class=\"sk-label-container\"><div class=\"sk-label sk-toggleable\"><input class=\"sk-toggleable__control sk-hidden--visually\" id=\"sk-estimator-id-4\" type=\"checkbox\" ><label for=\"sk-estimator-id-4\" class=\"sk-toggleable__label sk-toggleable__label-arrow\">SelectFromModel</label><div class=\"sk-toggleable__content\"><pre>SelectFromModel(estimator=DecisionTreeClassifier(class_weight=&#x27;balanced&#x27;,\n",
       "                                                 random_state=7),\n",
       "                threshold=&#x27;mean&#x27;)</pre></div></div></div><div class=\"sk-parallel\"><div class=\"sk-parallel-item\"><div class=\"sk-item\"><div class=\"sk-label-container\"><div class=\"sk-label sk-toggleable\"><input class=\"sk-toggleable__control sk-hidden--visually\" id=\"sk-estimator-id-5\" type=\"checkbox\" ><label for=\"sk-estimator-id-5\" class=\"sk-toggleable__label sk-toggleable__label-arrow\">estimator: DecisionTreeClassifier</label><div class=\"sk-toggleable__content\"><pre>DecisionTreeClassifier(class_weight=&#x27;balanced&#x27;, random_state=7)</pre></div></div></div><div class=\"sk-serial\"><div class=\"sk-item\"><div class=\"sk-estimator sk-toggleable\"><input class=\"sk-toggleable__control sk-hidden--visually\" id=\"sk-estimator-id-6\" type=\"checkbox\" ><label for=\"sk-estimator-id-6\" class=\"sk-toggleable__label sk-toggleable__label-arrow\">DecisionTreeClassifier</label><div class=\"sk-toggleable__content\"><pre>DecisionTreeClassifier(class_weight=&#x27;balanced&#x27;, random_state=7)</pre></div></div></div></div></div></div></div></div></div></div>"
      ],
      "text/plain": [
       "SelectFromModel(estimator=DecisionTreeClassifier(class_weight='balanced',\n",
       "                                                 random_state=7),\n",
       "                threshold='mean')"
      ]
     },
     "execution_count": 46,
     "metadata": {},
     "output_type": "execute_result"
    }
   ],
   "source": [
    "sel.fit(X_train, Y_train)"
   ]
  },
  {
   "cell_type": "code",
   "execution_count": 47,
   "id": "dc042396-ddf5-49c9-ae44-14e1a49fbf07",
   "metadata": {},
   "outputs": [
    {
     "data": {
      "text/plain": [
       "<bound method SelectorMixin.get_feature_names_out of SelectFromModel(estimator=DecisionTreeClassifier(class_weight='balanced',\n",
       "                                                 random_state=7),\n",
       "                threshold='mean')>"
      ]
     },
     "execution_count": 47,
     "metadata": {},
     "output_type": "execute_result"
    }
   ],
   "source": [
    "sel.get_feature_names_out"
   ]
  },
  {
   "cell_type": "code",
   "execution_count": 48,
   "id": "98d7e821-af2a-4440-8716-2f7a6d3fe660",
   "metadata": {},
   "outputs": [],
   "source": [
    "X_train_DT = sel.transform(X_train)"
   ]
  },
  {
   "cell_type": "code",
   "execution_count": 49,
   "id": "b4e69c6e-4102-4971-8e21-5ec6c66112f1",
   "metadata": {},
   "outputs": [],
   "source": [
    "X_test_DT = sel.transform(X_test)"
   ]
  },
  {
   "cell_type": "code",
   "execution_count": 50,
   "id": "6a3157f3-38d7-468d-b9fb-c110a80d9917",
   "metadata": {},
   "outputs": [
    {
     "data": {
      "text/plain": [
       "array(['perc_premium_paid_by_cash_credit', 'age_in_days', 'Income',\n",
       "       'Count_3-6_months_late', 'application_underwriting_score',\n",
       "       'no_of_premiums_paid'], dtype=object)"
      ]
     },
     "execution_count": 50,
     "metadata": {},
     "output_type": "execute_result"
    }
   ],
   "source": [
    "sel.get_feature_names_out(X_train.columns)"
   ]
  },
  {
   "cell_type": "code",
   "execution_count": 51,
   "id": "0a0bceb6-7c85-446e-832a-e05fdbda0994",
   "metadata": {},
   "outputs": [
    {
     "data": {
      "text/plain": [
       "array([0.28957681, 0.15187438, 0.1478954 , 0.06701284, 0.05690162,\n",
       "       0.02455394, 0.12842434, 0.07992456, 0.0112041 , 0.01023865,\n",
       "       0.008988  , 0.00701607, 0.00120744, 0.00865684, 0.00652501])"
      ]
     },
     "execution_count": 51,
     "metadata": {},
     "output_type": "execute_result"
    }
   ],
   "source": [
    "sel.estimator_.feature_importances_"
   ]
  },
  {
   "cell_type": "code",
   "execution_count": 52,
   "id": "3649cbfd-9ca3-42c8-8bfe-9671749638f9",
   "metadata": {},
   "outputs": [
    {
     "data": {
      "text/plain": [
       "Index(['perc_premium_paid_by_cash_credit', 'age_in_days', 'Income',\n",
       "       'Count_3-6_months_late', 'Count_6-12_months_late',\n",
       "       'Count_more_than_12_months_late', 'application_underwriting_score',\n",
       "       'no_of_premiums_paid', 'sourcing_channel_A', 'sourcing_channel_B',\n",
       "       'sourcing_channel_C', 'sourcing_channel_D', 'sourcing_channel_E',\n",
       "       'residence_area_type_Rural', 'residence_area_type_Urban'],\n",
       "      dtype='object')"
      ]
     },
     "execution_count": 52,
     "metadata": {},
     "output_type": "execute_result"
    }
   ],
   "source": [
    "X_train.columns"
   ]
  },
  {
   "cell_type": "markdown",
   "id": "95ae3ae6-0f38-4e6a-82d0-93f49962bcff",
   "metadata": {},
   "source": [
    "# RFE"
   ]
  },
  {
   "cell_type": "code",
   "execution_count": 53,
   "id": "cd8f58af-a4bb-4a36-82ae-23093ce59cc8",
   "metadata": {},
   "outputs": [],
   "source": [
    "from sklearn.feature_selection import RFE"
   ]
  },
  {
   "cell_type": "code",
   "execution_count": 54,
   "id": "afbc0ab7-c32b-45ac-9996-88ee0afc9c89",
   "metadata": {},
   "outputs": [],
   "source": [
    "rfe = RFE(DecisionTreeClassifier(criterion='gini',random_state=7,class_weight='balanced'),\n",
    "          n_features_to_select =0.5)"
   ]
  },
  {
   "cell_type": "code",
   "execution_count": 55,
   "id": "caee1620-e8f2-4955-a7f7-a034a4f14a89",
   "metadata": {},
   "outputs": [
    {
     "data": {
      "text/html": [
       "<style>#sk-container-id-5 {color: black;}#sk-container-id-5 pre{padding: 0;}#sk-container-id-5 div.sk-toggleable {background-color: white;}#sk-container-id-5 label.sk-toggleable__label {cursor: pointer;display: block;width: 100%;margin-bottom: 0;padding: 0.3em;box-sizing: border-box;text-align: center;}#sk-container-id-5 label.sk-toggleable__label-arrow:before {content: \"▸\";float: left;margin-right: 0.25em;color: #696969;}#sk-container-id-5 label.sk-toggleable__label-arrow:hover:before {color: black;}#sk-container-id-5 div.sk-estimator:hover label.sk-toggleable__label-arrow:before {color: black;}#sk-container-id-5 div.sk-toggleable__content {max-height: 0;max-width: 0;overflow: hidden;text-align: left;background-color: #f0f8ff;}#sk-container-id-5 div.sk-toggleable__content pre {margin: 0.2em;color: black;border-radius: 0.25em;background-color: #f0f8ff;}#sk-container-id-5 input.sk-toggleable__control:checked~div.sk-toggleable__content {max-height: 200px;max-width: 100%;overflow: auto;}#sk-container-id-5 input.sk-toggleable__control:checked~label.sk-toggleable__label-arrow:before {content: \"▾\";}#sk-container-id-5 div.sk-estimator input.sk-toggleable__control:checked~label.sk-toggleable__label {background-color: #d4ebff;}#sk-container-id-5 div.sk-label input.sk-toggleable__control:checked~label.sk-toggleable__label {background-color: #d4ebff;}#sk-container-id-5 input.sk-hidden--visually {border: 0;clip: rect(1px 1px 1px 1px);clip: rect(1px, 1px, 1px, 1px);height: 1px;margin: -1px;overflow: hidden;padding: 0;position: absolute;width: 1px;}#sk-container-id-5 div.sk-estimator {font-family: monospace;background-color: #f0f8ff;border: 1px dotted black;border-radius: 0.25em;box-sizing: border-box;margin-bottom: 0.5em;}#sk-container-id-5 div.sk-estimator:hover {background-color: #d4ebff;}#sk-container-id-5 div.sk-parallel-item::after {content: \"\";width: 100%;border-bottom: 1px solid gray;flex-grow: 1;}#sk-container-id-5 div.sk-label:hover label.sk-toggleable__label {background-color: #d4ebff;}#sk-container-id-5 div.sk-serial::before {content: \"\";position: absolute;border-left: 1px solid gray;box-sizing: border-box;top: 0;bottom: 0;left: 50%;z-index: 0;}#sk-container-id-5 div.sk-serial {display: flex;flex-direction: column;align-items: center;background-color: white;padding-right: 0.2em;padding-left: 0.2em;position: relative;}#sk-container-id-5 div.sk-item {position: relative;z-index: 1;}#sk-container-id-5 div.sk-parallel {display: flex;align-items: stretch;justify-content: center;background-color: white;position: relative;}#sk-container-id-5 div.sk-item::before, #sk-container-id-5 div.sk-parallel-item::before {content: \"\";position: absolute;border-left: 1px solid gray;box-sizing: border-box;top: 0;bottom: 0;left: 50%;z-index: -1;}#sk-container-id-5 div.sk-parallel-item {display: flex;flex-direction: column;z-index: 1;position: relative;background-color: white;}#sk-container-id-5 div.sk-parallel-item:first-child::after {align-self: flex-end;width: 50%;}#sk-container-id-5 div.sk-parallel-item:last-child::after {align-self: flex-start;width: 50%;}#sk-container-id-5 div.sk-parallel-item:only-child::after {width: 0;}#sk-container-id-5 div.sk-dashed-wrapped {border: 1px dashed gray;margin: 0 0.4em 0.5em 0.4em;box-sizing: border-box;padding-bottom: 0.4em;background-color: white;}#sk-container-id-5 div.sk-label label {font-family: monospace;font-weight: bold;display: inline-block;line-height: 1.2em;}#sk-container-id-5 div.sk-label-container {text-align: center;}#sk-container-id-5 div.sk-container {/* jupyter's `normalize.less` sets `[hidden] { display: none; }` but bootstrap.min.css set `[hidden] { display: none !important; }` so we also need the `!important` here to be able to override the default hidden behavior on the sphinx rendered scikit-learn.org. See: https://github.com/scikit-learn/scikit-learn/issues/21755 */display: inline-block !important;position: relative;}#sk-container-id-5 div.sk-text-repr-fallback {display: none;}</style><div id=\"sk-container-id-5\" class=\"sk-top-container\"><div class=\"sk-text-repr-fallback\"><pre>RFE(estimator=DecisionTreeClassifier(class_weight=&#x27;balanced&#x27;, random_state=7),\n",
       "    n_features_to_select=0.5)</pre><b>In a Jupyter environment, please rerun this cell to show the HTML representation or trust the notebook. <br />On GitHub, the HTML representation is unable to render, please try loading this page with nbviewer.org.</b></div><div class=\"sk-container\" hidden><div class=\"sk-item sk-dashed-wrapped\"><div class=\"sk-label-container\"><div class=\"sk-label sk-toggleable\"><input class=\"sk-toggleable__control sk-hidden--visually\" id=\"sk-estimator-id-7\" type=\"checkbox\" ><label for=\"sk-estimator-id-7\" class=\"sk-toggleable__label sk-toggleable__label-arrow\">RFE</label><div class=\"sk-toggleable__content\"><pre>RFE(estimator=DecisionTreeClassifier(class_weight=&#x27;balanced&#x27;, random_state=7),\n",
       "    n_features_to_select=0.5)</pre></div></div></div><div class=\"sk-parallel\"><div class=\"sk-parallel-item\"><div class=\"sk-item\"><div class=\"sk-label-container\"><div class=\"sk-label sk-toggleable\"><input class=\"sk-toggleable__control sk-hidden--visually\" id=\"sk-estimator-id-8\" type=\"checkbox\" ><label for=\"sk-estimator-id-8\" class=\"sk-toggleable__label sk-toggleable__label-arrow\">estimator: DecisionTreeClassifier</label><div class=\"sk-toggleable__content\"><pre>DecisionTreeClassifier(class_weight=&#x27;balanced&#x27;, random_state=7)</pre></div></div></div><div class=\"sk-serial\"><div class=\"sk-item\"><div class=\"sk-estimator sk-toggleable\"><input class=\"sk-toggleable__control sk-hidden--visually\" id=\"sk-estimator-id-9\" type=\"checkbox\" ><label for=\"sk-estimator-id-9\" class=\"sk-toggleable__label sk-toggleable__label-arrow\">DecisionTreeClassifier</label><div class=\"sk-toggleable__content\"><pre>DecisionTreeClassifier(class_weight=&#x27;balanced&#x27;, random_state=7)</pre></div></div></div></div></div></div></div></div></div></div>"
      ],
      "text/plain": [
       "RFE(estimator=DecisionTreeClassifier(class_weight='balanced', random_state=7),\n",
       "    n_features_to_select=0.5)"
      ]
     },
     "execution_count": 55,
     "metadata": {},
     "output_type": "execute_result"
    }
   ],
   "source": [
    "rfe.fit(X_train,Y_train)"
   ]
  },
  {
   "cell_type": "code",
   "execution_count": 56,
   "id": "36c7d758-cd2a-4a17-8a28-d8a81cfa4444",
   "metadata": {},
   "outputs": [
    {
     "data": {
      "text/plain": [
       "array([1, 1, 1, 1, 1, 2, 1, 1, 5, 6, 4, 7, 9, 3, 8])"
      ]
     },
     "execution_count": 56,
     "metadata": {},
     "output_type": "execute_result"
    }
   ],
   "source": [
    "rfe.ranking_"
   ]
  },
  {
   "cell_type": "markdown",
   "id": "1de30f10-7d20-4d00-83e0-c0c69408bb13",
   "metadata": {},
   "source": [
    "# Logistic Regression"
   ]
  },
  {
   "cell_type": "code",
   "execution_count": 57,
   "id": "49a8361e-fa33-4f01-a9d8-2430f2cfd4dd",
   "metadata": {},
   "outputs": [],
   "source": [
    "from sklearn.linear_model import LogisticRegression"
   ]
  },
  {
   "cell_type": "code",
   "execution_count": 58,
   "id": "bdba42c7-cfc2-4383-a085-08a61ad163fb",
   "metadata": {},
   "outputs": [],
   "source": [
    "lr = LogisticRegression(class_weight=\"balanced\", random_state=7, solver='saga')"
   ]
  },
  {
   "cell_type": "code",
   "execution_count": 59,
   "id": "5aded6d8-d68c-4565-bfe0-720b9174ae39",
   "metadata": {},
   "outputs": [
    {
     "data": {
      "text/html": [
       "<style>#sk-container-id-6 {color: black;}#sk-container-id-6 pre{padding: 0;}#sk-container-id-6 div.sk-toggleable {background-color: white;}#sk-container-id-6 label.sk-toggleable__label {cursor: pointer;display: block;width: 100%;margin-bottom: 0;padding: 0.3em;box-sizing: border-box;text-align: center;}#sk-container-id-6 label.sk-toggleable__label-arrow:before {content: \"▸\";float: left;margin-right: 0.25em;color: #696969;}#sk-container-id-6 label.sk-toggleable__label-arrow:hover:before {color: black;}#sk-container-id-6 div.sk-estimator:hover label.sk-toggleable__label-arrow:before {color: black;}#sk-container-id-6 div.sk-toggleable__content {max-height: 0;max-width: 0;overflow: hidden;text-align: left;background-color: #f0f8ff;}#sk-container-id-6 div.sk-toggleable__content pre {margin: 0.2em;color: black;border-radius: 0.25em;background-color: #f0f8ff;}#sk-container-id-6 input.sk-toggleable__control:checked~div.sk-toggleable__content {max-height: 200px;max-width: 100%;overflow: auto;}#sk-container-id-6 input.sk-toggleable__control:checked~label.sk-toggleable__label-arrow:before {content: \"▾\";}#sk-container-id-6 div.sk-estimator input.sk-toggleable__control:checked~label.sk-toggleable__label {background-color: #d4ebff;}#sk-container-id-6 div.sk-label input.sk-toggleable__control:checked~label.sk-toggleable__label {background-color: #d4ebff;}#sk-container-id-6 input.sk-hidden--visually {border: 0;clip: rect(1px 1px 1px 1px);clip: rect(1px, 1px, 1px, 1px);height: 1px;margin: -1px;overflow: hidden;padding: 0;position: absolute;width: 1px;}#sk-container-id-6 div.sk-estimator {font-family: monospace;background-color: #f0f8ff;border: 1px dotted black;border-radius: 0.25em;box-sizing: border-box;margin-bottom: 0.5em;}#sk-container-id-6 div.sk-estimator:hover {background-color: #d4ebff;}#sk-container-id-6 div.sk-parallel-item::after {content: \"\";width: 100%;border-bottom: 1px solid gray;flex-grow: 1;}#sk-container-id-6 div.sk-label:hover label.sk-toggleable__label {background-color: #d4ebff;}#sk-container-id-6 div.sk-serial::before {content: \"\";position: absolute;border-left: 1px solid gray;box-sizing: border-box;top: 0;bottom: 0;left: 50%;z-index: 0;}#sk-container-id-6 div.sk-serial {display: flex;flex-direction: column;align-items: center;background-color: white;padding-right: 0.2em;padding-left: 0.2em;position: relative;}#sk-container-id-6 div.sk-item {position: relative;z-index: 1;}#sk-container-id-6 div.sk-parallel {display: flex;align-items: stretch;justify-content: center;background-color: white;position: relative;}#sk-container-id-6 div.sk-item::before, #sk-container-id-6 div.sk-parallel-item::before {content: \"\";position: absolute;border-left: 1px solid gray;box-sizing: border-box;top: 0;bottom: 0;left: 50%;z-index: -1;}#sk-container-id-6 div.sk-parallel-item {display: flex;flex-direction: column;z-index: 1;position: relative;background-color: white;}#sk-container-id-6 div.sk-parallel-item:first-child::after {align-self: flex-end;width: 50%;}#sk-container-id-6 div.sk-parallel-item:last-child::after {align-self: flex-start;width: 50%;}#sk-container-id-6 div.sk-parallel-item:only-child::after {width: 0;}#sk-container-id-6 div.sk-dashed-wrapped {border: 1px dashed gray;margin: 0 0.4em 0.5em 0.4em;box-sizing: border-box;padding-bottom: 0.4em;background-color: white;}#sk-container-id-6 div.sk-label label {font-family: monospace;font-weight: bold;display: inline-block;line-height: 1.2em;}#sk-container-id-6 div.sk-label-container {text-align: center;}#sk-container-id-6 div.sk-container {/* jupyter's `normalize.less` sets `[hidden] { display: none; }` but bootstrap.min.css set `[hidden] { display: none !important; }` so we also need the `!important` here to be able to override the default hidden behavior on the sphinx rendered scikit-learn.org. See: https://github.com/scikit-learn/scikit-learn/issues/21755 */display: inline-block !important;position: relative;}#sk-container-id-6 div.sk-text-repr-fallback {display: none;}</style><div id=\"sk-container-id-6\" class=\"sk-top-container\"><div class=\"sk-text-repr-fallback\"><pre>LogisticRegression(class_weight=&#x27;balanced&#x27;, random_state=7, solver=&#x27;saga&#x27;)</pre><b>In a Jupyter environment, please rerun this cell to show the HTML representation or trust the notebook. <br />On GitHub, the HTML representation is unable to render, please try loading this page with nbviewer.org.</b></div><div class=\"sk-container\" hidden><div class=\"sk-item\"><div class=\"sk-estimator sk-toggleable\"><input class=\"sk-toggleable__control sk-hidden--visually\" id=\"sk-estimator-id-10\" type=\"checkbox\" checked><label for=\"sk-estimator-id-10\" class=\"sk-toggleable__label sk-toggleable__label-arrow\">LogisticRegression</label><div class=\"sk-toggleable__content\"><pre>LogisticRegression(class_weight=&#x27;balanced&#x27;, random_state=7, solver=&#x27;saga&#x27;)</pre></div></div></div></div></div>"
      ],
      "text/plain": [
       "LogisticRegression(class_weight='balanced', random_state=7, solver='saga')"
      ]
     },
     "execution_count": 59,
     "metadata": {},
     "output_type": "execute_result"
    }
   ],
   "source": [
    "lr.fit(X_train, Y_train)"
   ]
  },
  {
   "cell_type": "code",
   "execution_count": 60,
   "id": "cc70117f-4051-49f8-9be1-b9cec919d35f",
   "metadata": {},
   "outputs": [
    {
     "data": {
      "text/plain": [
       "array([[-6.57378173e-01,  2.61140167e-01,  1.18721195e-01,\n",
       "        -3.74104625e-01, -4.62772076e-01, -2.87347807e-01,\n",
       "         1.67267610e-01, -1.65405152e-01,  7.73587775e-03,\n",
       "         2.93018999e-02, -2.35150498e-02, -2.49818231e-02,\n",
       "        -2.63034824e-04, -1.19611761e-02,  1.19611761e-02]])"
      ]
     },
     "execution_count": 60,
     "metadata": {},
     "output_type": "execute_result"
    }
   ],
   "source": [
    "lr.coef_"
   ]
  },
  {
   "cell_type": "code",
   "execution_count": 61,
   "id": "87d785df-8814-4026-8d35-d358cc86f5b5",
   "metadata": {},
   "outputs": [],
   "source": [
    "Y_pred = lr.predict(X_test)"
   ]
  },
  {
   "cell_type": "code",
   "execution_count": 62,
   "id": "64a5762c-6013-447d-9f19-2e6a07b4c3f3",
   "metadata": {},
   "outputs": [
    {
     "data": {
      "text/plain": [
       "((23956,), (23956,))"
      ]
     },
     "execution_count": 62,
     "metadata": {},
     "output_type": "execute_result"
    }
   ],
   "source": [
    "Y_test.shape, Y_pred.shape"
   ]
  },
  {
   "cell_type": "code",
   "execution_count": 63,
   "id": "8e7dc94b-e82b-40b4-befa-3a3439506f05",
   "metadata": {},
   "outputs": [
    {
     "name": "stdout",
     "output_type": "stream",
     "text": [
      "              precision    recall  f1-score   support\n",
      "\n",
      "           0       0.18      0.72      0.29      1505\n",
      "           1       0.98      0.79      0.87     22451\n",
      "\n",
      "    accuracy                           0.78     23956\n",
      "   macro avg       0.58      0.75      0.58     23956\n",
      "weighted avg       0.93      0.78      0.84     23956\n",
      "\n"
     ]
    }
   ],
   "source": [
    "from sklearn.metrics import classification_report\n",
    "print(classification_report(Y_test, Y_pred))"
   ]
  },
  {
   "cell_type": "code",
   "execution_count": 72,
   "id": "d9d3df97-46e5-4fc9-a0ae-a49c929a1e9d",
   "metadata": {},
   "outputs": [],
   "source": [
    "# logistic regression is failing here bcoz data is more imbalanced, so it needs more no. of iterations"
   ]
  },
  {
   "cell_type": "markdown",
   "id": "0637585c-cd93-41f1-8707-75ebb060b448",
   "metadata": {},
   "source": [
    "# SVM"
   ]
  },
  {
   "cell_type": "code",
   "execution_count": 64,
   "id": "ef911a63-f29a-444a-9e7a-a59caccdce1c",
   "metadata": {},
   "outputs": [],
   "source": [
    "from sklearn.svm import SVC"
   ]
  },
  {
   "cell_type": "code",
   "execution_count": 65,
   "id": "9798e590-7fd4-4df8-8ace-12a5982adbdc",
   "metadata": {},
   "outputs": [],
   "source": [
    "svc = SVC(class_weight=\"balanced\", random_state=7)"
   ]
  },
  {
   "cell_type": "code",
   "execution_count": 66,
   "id": "032a5991-2a01-4b0a-a706-65c12de1faa4",
   "metadata": {},
   "outputs": [
    {
     "data": {
      "text/html": [
       "<style>#sk-container-id-7 {color: black;}#sk-container-id-7 pre{padding: 0;}#sk-container-id-7 div.sk-toggleable {background-color: white;}#sk-container-id-7 label.sk-toggleable__label {cursor: pointer;display: block;width: 100%;margin-bottom: 0;padding: 0.3em;box-sizing: border-box;text-align: center;}#sk-container-id-7 label.sk-toggleable__label-arrow:before {content: \"▸\";float: left;margin-right: 0.25em;color: #696969;}#sk-container-id-7 label.sk-toggleable__label-arrow:hover:before {color: black;}#sk-container-id-7 div.sk-estimator:hover label.sk-toggleable__label-arrow:before {color: black;}#sk-container-id-7 div.sk-toggleable__content {max-height: 0;max-width: 0;overflow: hidden;text-align: left;background-color: #f0f8ff;}#sk-container-id-7 div.sk-toggleable__content pre {margin: 0.2em;color: black;border-radius: 0.25em;background-color: #f0f8ff;}#sk-container-id-7 input.sk-toggleable__control:checked~div.sk-toggleable__content {max-height: 200px;max-width: 100%;overflow: auto;}#sk-container-id-7 input.sk-toggleable__control:checked~label.sk-toggleable__label-arrow:before {content: \"▾\";}#sk-container-id-7 div.sk-estimator input.sk-toggleable__control:checked~label.sk-toggleable__label {background-color: #d4ebff;}#sk-container-id-7 div.sk-label input.sk-toggleable__control:checked~label.sk-toggleable__label {background-color: #d4ebff;}#sk-container-id-7 input.sk-hidden--visually {border: 0;clip: rect(1px 1px 1px 1px);clip: rect(1px, 1px, 1px, 1px);height: 1px;margin: -1px;overflow: hidden;padding: 0;position: absolute;width: 1px;}#sk-container-id-7 div.sk-estimator {font-family: monospace;background-color: #f0f8ff;border: 1px dotted black;border-radius: 0.25em;box-sizing: border-box;margin-bottom: 0.5em;}#sk-container-id-7 div.sk-estimator:hover {background-color: #d4ebff;}#sk-container-id-7 div.sk-parallel-item::after {content: \"\";width: 100%;border-bottom: 1px solid gray;flex-grow: 1;}#sk-container-id-7 div.sk-label:hover label.sk-toggleable__label {background-color: #d4ebff;}#sk-container-id-7 div.sk-serial::before {content: \"\";position: absolute;border-left: 1px solid gray;box-sizing: border-box;top: 0;bottom: 0;left: 50%;z-index: 0;}#sk-container-id-7 div.sk-serial {display: flex;flex-direction: column;align-items: center;background-color: white;padding-right: 0.2em;padding-left: 0.2em;position: relative;}#sk-container-id-7 div.sk-item {position: relative;z-index: 1;}#sk-container-id-7 div.sk-parallel {display: flex;align-items: stretch;justify-content: center;background-color: white;position: relative;}#sk-container-id-7 div.sk-item::before, #sk-container-id-7 div.sk-parallel-item::before {content: \"\";position: absolute;border-left: 1px solid gray;box-sizing: border-box;top: 0;bottom: 0;left: 50%;z-index: -1;}#sk-container-id-7 div.sk-parallel-item {display: flex;flex-direction: column;z-index: 1;position: relative;background-color: white;}#sk-container-id-7 div.sk-parallel-item:first-child::after {align-self: flex-end;width: 50%;}#sk-container-id-7 div.sk-parallel-item:last-child::after {align-self: flex-start;width: 50%;}#sk-container-id-7 div.sk-parallel-item:only-child::after {width: 0;}#sk-container-id-7 div.sk-dashed-wrapped {border: 1px dashed gray;margin: 0 0.4em 0.5em 0.4em;box-sizing: border-box;padding-bottom: 0.4em;background-color: white;}#sk-container-id-7 div.sk-label label {font-family: monospace;font-weight: bold;display: inline-block;line-height: 1.2em;}#sk-container-id-7 div.sk-label-container {text-align: center;}#sk-container-id-7 div.sk-container {/* jupyter's `normalize.less` sets `[hidden] { display: none; }` but bootstrap.min.css set `[hidden] { display: none !important; }` so we also need the `!important` here to be able to override the default hidden behavior on the sphinx rendered scikit-learn.org. See: https://github.com/scikit-learn/scikit-learn/issues/21755 */display: inline-block !important;position: relative;}#sk-container-id-7 div.sk-text-repr-fallback {display: none;}</style><div id=\"sk-container-id-7\" class=\"sk-top-container\"><div class=\"sk-text-repr-fallback\"><pre>SVC(class_weight=&#x27;balanced&#x27;, random_state=7)</pre><b>In a Jupyter environment, please rerun this cell to show the HTML representation or trust the notebook. <br />On GitHub, the HTML representation is unable to render, please try loading this page with nbviewer.org.</b></div><div class=\"sk-container\" hidden><div class=\"sk-item\"><div class=\"sk-estimator sk-toggleable\"><input class=\"sk-toggleable__control sk-hidden--visually\" id=\"sk-estimator-id-11\" type=\"checkbox\" checked><label for=\"sk-estimator-id-11\" class=\"sk-toggleable__label sk-toggleable__label-arrow\">SVC</label><div class=\"sk-toggleable__content\"><pre>SVC(class_weight=&#x27;balanced&#x27;, random_state=7)</pre></div></div></div></div></div>"
      ],
      "text/plain": [
       "SVC(class_weight='balanced', random_state=7)"
      ]
     },
     "execution_count": 66,
     "metadata": {},
     "output_type": "execute_result"
    }
   ],
   "source": [
    "svc.fit(X_train,Y_train)"
   ]
  },
  {
   "cell_type": "code",
   "execution_count": 67,
   "id": "6dcffcba-0b7e-4e5e-94c0-07c4f1487278",
   "metadata": {},
   "outputs": [],
   "source": [
    "Y_pred = svc.predict(X_test)"
   ]
  },
  {
   "cell_type": "code",
   "execution_count": 68,
   "id": "79daf590-c923-41c0-80ef-0fd7317e9d3d",
   "metadata": {},
   "outputs": [
    {
     "data": {
      "text/plain": [
       "((23956,), (23956,))"
      ]
     },
     "execution_count": 68,
     "metadata": {},
     "output_type": "execute_result"
    }
   ],
   "source": [
    "Y_test.shape, Y_pred.shape"
   ]
  },
  {
   "cell_type": "code",
   "execution_count": 69,
   "id": "a88b9cde-ad63-4264-97bf-8e0f4841e105",
   "metadata": {},
   "outputs": [
    {
     "name": "stdout",
     "output_type": "stream",
     "text": [
      "              precision    recall  f1-score   support\n",
      "\n",
      "           0       0.19      0.72      0.30      1505\n",
      "           1       0.98      0.80      0.88     22451\n",
      "\n",
      "    accuracy                           0.79     23956\n",
      "   macro avg       0.59      0.76      0.59     23956\n",
      "weighted avg       0.93      0.79      0.84     23956\n",
      "\n"
     ]
    }
   ],
   "source": [
    "from sklearn.metrics import classification_report\n",
    "print(classification_report(Y_test,Y_pred))"
   ]
  },
  {
   "cell_type": "code",
   "execution_count": 73,
   "id": "c3b77767-3d1f-4ff6-8c43-febb2fbb27b2",
   "metadata": {},
   "outputs": [],
   "source": [
    "# svm is showing decent performance coz of hyperspace"
   ]
  },
  {
   "cell_type": "markdown",
   "id": "19fc2ea1-985f-4fc6-a148-36b6649d2dd1",
   "metadata": {},
   "source": [
    "# Random Forest"
   ]
  },
  {
   "cell_type": "code",
   "execution_count": 70,
   "id": "d94c466e-81a2-433d-b896-bafd9e103c8a",
   "metadata": {},
   "outputs": [],
   "source": [
    "from sklearn.ensemble import RandomForestClassifier"
   ]
  },
  {
   "cell_type": "code",
   "execution_count": 75,
   "id": "a346d3aa-2ef5-41bf-84d9-fecfa09e2aee",
   "metadata": {},
   "outputs": [],
   "source": [
    "rfc = RandomForestClassifier(n_estimators=200, max_samples=0.6, max_depth=4, oob_score=True, class_weight='balanced',random_state=7)"
   ]
  },
  {
   "cell_type": "raw",
   "id": "5ddd4fc8-1d38-49f3-9e00-934509039cc8",
   "metadata": {},
   "source": [
    "n_estimators = \n",
    "max_samples = % data taken for bootstrap\n",
    "max_depth = \n",
    "oob_score = always true"
   ]
  },
  {
   "cell_type": "code",
   "execution_count": 77,
   "id": "2e671adf-24e9-45bd-8303-83529dce65d2",
   "metadata": {},
   "outputs": [
    {
     "data": {
      "text/html": [
       "<style>#sk-container-id-8 {color: black;}#sk-container-id-8 pre{padding: 0;}#sk-container-id-8 div.sk-toggleable {background-color: white;}#sk-container-id-8 label.sk-toggleable__label {cursor: pointer;display: block;width: 100%;margin-bottom: 0;padding: 0.3em;box-sizing: border-box;text-align: center;}#sk-container-id-8 label.sk-toggleable__label-arrow:before {content: \"▸\";float: left;margin-right: 0.25em;color: #696969;}#sk-container-id-8 label.sk-toggleable__label-arrow:hover:before {color: black;}#sk-container-id-8 div.sk-estimator:hover label.sk-toggleable__label-arrow:before {color: black;}#sk-container-id-8 div.sk-toggleable__content {max-height: 0;max-width: 0;overflow: hidden;text-align: left;background-color: #f0f8ff;}#sk-container-id-8 div.sk-toggleable__content pre {margin: 0.2em;color: black;border-radius: 0.25em;background-color: #f0f8ff;}#sk-container-id-8 input.sk-toggleable__control:checked~div.sk-toggleable__content {max-height: 200px;max-width: 100%;overflow: auto;}#sk-container-id-8 input.sk-toggleable__control:checked~label.sk-toggleable__label-arrow:before {content: \"▾\";}#sk-container-id-8 div.sk-estimator input.sk-toggleable__control:checked~label.sk-toggleable__label {background-color: #d4ebff;}#sk-container-id-8 div.sk-label input.sk-toggleable__control:checked~label.sk-toggleable__label {background-color: #d4ebff;}#sk-container-id-8 input.sk-hidden--visually {border: 0;clip: rect(1px 1px 1px 1px);clip: rect(1px, 1px, 1px, 1px);height: 1px;margin: -1px;overflow: hidden;padding: 0;position: absolute;width: 1px;}#sk-container-id-8 div.sk-estimator {font-family: monospace;background-color: #f0f8ff;border: 1px dotted black;border-radius: 0.25em;box-sizing: border-box;margin-bottom: 0.5em;}#sk-container-id-8 div.sk-estimator:hover {background-color: #d4ebff;}#sk-container-id-8 div.sk-parallel-item::after {content: \"\";width: 100%;border-bottom: 1px solid gray;flex-grow: 1;}#sk-container-id-8 div.sk-label:hover label.sk-toggleable__label {background-color: #d4ebff;}#sk-container-id-8 div.sk-serial::before {content: \"\";position: absolute;border-left: 1px solid gray;box-sizing: border-box;top: 0;bottom: 0;left: 50%;z-index: 0;}#sk-container-id-8 div.sk-serial {display: flex;flex-direction: column;align-items: center;background-color: white;padding-right: 0.2em;padding-left: 0.2em;position: relative;}#sk-container-id-8 div.sk-item {position: relative;z-index: 1;}#sk-container-id-8 div.sk-parallel {display: flex;align-items: stretch;justify-content: center;background-color: white;position: relative;}#sk-container-id-8 div.sk-item::before, #sk-container-id-8 div.sk-parallel-item::before {content: \"\";position: absolute;border-left: 1px solid gray;box-sizing: border-box;top: 0;bottom: 0;left: 50%;z-index: -1;}#sk-container-id-8 div.sk-parallel-item {display: flex;flex-direction: column;z-index: 1;position: relative;background-color: white;}#sk-container-id-8 div.sk-parallel-item:first-child::after {align-self: flex-end;width: 50%;}#sk-container-id-8 div.sk-parallel-item:last-child::after {align-self: flex-start;width: 50%;}#sk-container-id-8 div.sk-parallel-item:only-child::after {width: 0;}#sk-container-id-8 div.sk-dashed-wrapped {border: 1px dashed gray;margin: 0 0.4em 0.5em 0.4em;box-sizing: border-box;padding-bottom: 0.4em;background-color: white;}#sk-container-id-8 div.sk-label label {font-family: monospace;font-weight: bold;display: inline-block;line-height: 1.2em;}#sk-container-id-8 div.sk-label-container {text-align: center;}#sk-container-id-8 div.sk-container {/* jupyter's `normalize.less` sets `[hidden] { display: none; }` but bootstrap.min.css set `[hidden] { display: none !important; }` so we also need the `!important` here to be able to override the default hidden behavior on the sphinx rendered scikit-learn.org. See: https://github.com/scikit-learn/scikit-learn/issues/21755 */display: inline-block !important;position: relative;}#sk-container-id-8 div.sk-text-repr-fallback {display: none;}</style><div id=\"sk-container-id-8\" class=\"sk-top-container\"><div class=\"sk-text-repr-fallback\"><pre>RandomForestClassifier(class_weight=&#x27;balanced&#x27;, max_depth=4, max_samples=0.6,\n",
       "                       n_estimators=200, oob_score=True, random_state=7)</pre><b>In a Jupyter environment, please rerun this cell to show the HTML representation or trust the notebook. <br />On GitHub, the HTML representation is unable to render, please try loading this page with nbviewer.org.</b></div><div class=\"sk-container\" hidden><div class=\"sk-item\"><div class=\"sk-estimator sk-toggleable\"><input class=\"sk-toggleable__control sk-hidden--visually\" id=\"sk-estimator-id-12\" type=\"checkbox\" checked><label for=\"sk-estimator-id-12\" class=\"sk-toggleable__label sk-toggleable__label-arrow\">RandomForestClassifier</label><div class=\"sk-toggleable__content\"><pre>RandomForestClassifier(class_weight=&#x27;balanced&#x27;, max_depth=4, max_samples=0.6,\n",
       "                       n_estimators=200, oob_score=True, random_state=7)</pre></div></div></div></div></div>"
      ],
      "text/plain": [
       "RandomForestClassifier(class_weight='balanced', max_depth=4, max_samples=0.6,\n",
       "                       n_estimators=200, oob_score=True, random_state=7)"
      ]
     },
     "execution_count": 77,
     "metadata": {},
     "output_type": "execute_result"
    }
   ],
   "source": [
    "rfc.fit(X_train_pca,Y_train)"
   ]
  },
  {
   "cell_type": "code",
   "execution_count": 78,
   "id": "8e860ab7-d10a-402f-95b0-0e005d543db0",
   "metadata": {},
   "outputs": [],
   "source": [
    "Y_pred= rfc.predict(X_test_pca)"
   ]
  },
  {
   "cell_type": "code",
   "execution_count": 79,
   "id": "12589e4f-8e55-4a9b-b0a0-8115dbd8314f",
   "metadata": {},
   "outputs": [
    {
     "data": {
      "text/plain": [
       "0.871149289099526"
      ]
     },
     "execution_count": 79,
     "metadata": {},
     "output_type": "execute_result"
    }
   ],
   "source": [
    "from sklearn.metrics import f1_score\n",
    "f1_score(Y_test, Y_pred)"
   ]
  },
  {
   "cell_type": "code",
   "execution_count": 80,
   "id": "ec212d10-c17d-4f5b-a9d7-cbc102227dc4",
   "metadata": {},
   "outputs": [
    {
     "name": "stdout",
     "output_type": "stream",
     "text": [
      "              precision    recall  f1-score   support\n",
      "\n",
      "           0       0.18      0.72      0.29      1505\n",
      "           1       0.98      0.79      0.87     22451\n",
      "\n",
      "    accuracy                           0.78     23956\n",
      "   macro avg       0.58      0.76      0.58     23956\n",
      "weighted avg       0.93      0.78      0.83     23956\n",
      "\n"
     ]
    }
   ],
   "source": [
    "from sklearn.metrics import classification_report\n",
    "print(classification_report(Y_test,Y_pred))"
   ]
  },
  {
   "cell_type": "code",
   "execution_count": null,
   "id": "de6e6a41-ffb2-4114-97d5-432bbfb205fc",
   "metadata": {},
   "outputs": [],
   "source": []
  }
 ],
 "metadata": {
  "kernelspec": {
   "display_name": "Python 3 (ipykernel)",
   "language": "python",
   "name": "python3"
  },
  "language_info": {
   "codemirror_mode": {
    "name": "ipython",
    "version": 3
   },
   "file_extension": ".py",
   "mimetype": "text/x-python",
   "name": "python",
   "nbconvert_exporter": "python",
   "pygments_lexer": "ipython3",
   "version": "3.11.5"
  }
 },
 "nbformat": 4,
 "nbformat_minor": 5
}
